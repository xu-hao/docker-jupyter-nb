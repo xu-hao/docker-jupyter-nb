{
 "cells": [
  {
   "cell_type": "code",
   "execution_count": 4,
   "metadata": {},
   "outputs": [],
   "source": [
    "import livy, pprint, requests\n",
    "host = livy.getHostUrl(\"http://34.205.23.216:9191\")"
   ]
  },
  {
   "cell_type": "code",
   "execution_count": 5,
   "metadata": {},
   "outputs": [
    {
     "name": "stdout",
     "output_type": "stream",
     "text": [
      "..........................."
     ]
    }
   ],
   "source": [
    "session_url = livy.openSession(host)"
   ]
  },
  {
   "cell_type": "code",
   "execution_count": 6,
   "metadata": {},
   "outputs": [],
   "source": [
    "upload_file_url = session_url + \"/upload-file\""
   ]
  },
  {
   "cell_type": "code",
   "execution_count": 7,
   "metadata": {},
   "outputs": [
    {
     "data": {
      "text/plain": [
       "<Response [200]>"
      ]
     },
     "execution_count": 7,
     "metadata": {},
     "output_type": "execute_result"
    }
   ],
   "source": [
    "requests.post(upload_file_url, files={\"file\": open(\"gtex_rnaseq_prep_profiles.tsv\",\"rb\")})"
   ]
  },
  {
   "cell_type": "code",
   "execution_count": 109,
   "metadata": {},
   "outputs": [],
   "source": [
    "code = '''\n",
    "from pyspark import SparkContext\n",
    "from pyspark import SparkFiles\n",
    "from pyspark.ml.linalg import Vectors, Matrices\n",
    "from pyspark.ml.stat import Correlation\n",
    "\n",
    "path = SparkFiles.get(\"gtex_rnaseq_prep_profiles.tsv\")\n",
    "\n",
    "dataheaderindex = 2\n",
    "\n",
    "with open(path) as inp:\n",
    "    headers = inp.readline().strip().split(\"\\t\")\n",
    "    # ids = []\n",
    "    # features = []\n",
    "    ncols = len(headers) - dataheaderindex\n",
    "    nrows = 0\n",
    "    data = []\n",
    "    data2 = []\n",
    "    for line in inp:\n",
    "        row = line.strip().split('\\t')\n",
    "        if len(row) < dataheaderindex:\n",
    "            continue\n",
    "        # id = row[:dataheaderindex]\n",
    "        feature = list(map(float, row[dataheaderindex:]))\n",
    "        data.append(Vectors.dense(*feature))\n",
    "        nrows += 1\n",
    "        \n",
    "\n",
    "rdd = sc.parallelize(data)\n",
    "\n",
    "rddi = rdd.zipWithIndex()\n",
    "\n",
    "def dot_self(v):\n",
    "    return v.dot(v)\n",
    "    \n",
    "AA = rdd.map(dot_self).collect()\n",
    "print(AA)\n",
    "\n",
    "def tanimoto(veci):\n",
    "    vec, i = veci\n",
    "    data2 = [ABij / (AA[i] + AA[j] - ABij) for j, ABij in enumerate(map(lambda vec2 : vec.dot(vec2), data[:i]))]\n",
    "    return data2\n",
    "  \n",
    "tanimotodf = rddi.map(tanimoto).collect()\n",
    "%json tanimotodf\n",
    "'''\n"
   ]
  },
  {
   "cell_type": "code",
   "execution_count": 110,
   "metadata": {},
   "outputs": [
    {
     "name": "stdout",
     "output_type": "stream",
     "text": [
      "."
     ]
    }
   ],
   "source": [
    "r = livy.execStatement(host, session_url, code)"
   ]
  },
  {
   "cell_type": "code",
   "execution_count": 111,
   "metadata": {
    "scrolled": true
   },
   "outputs": [
    {
     "name": "stdout",
     "output_type": "stream",
     "text": [
      "{'code': '\\n'\n",
      "         'from pyspark import SparkContext\\n'\n",
      "         'from pyspark import SparkFiles\\n'\n",
      "         'from pyspark.ml.linalg import Vectors, Matrices\\n'\n",
      "         'from pyspark.ml.stat import Correlation\\n'\n",
      "         '\\n'\n",
      "         'path = SparkFiles.get(\"gtex_rnaseq_prep_profiles.tsv\")\\n'\n",
      "         '\\n'\n",
      "         'dataheaderindex = 2\\n'\n",
      "         '\\n'\n",
      "         'with open(path) as inp:\\n'\n",
      "         '    headers = inp.readline().strip().split(\"\\t\")\\n'\n",
      "         '    # ids = []\\n'\n",
      "         '    # features = []\\n'\n",
      "         '    ncols = len(headers) - dataheaderindex\\n'\n",
      "         '    nrows = 0\\n'\n",
      "         '    data = []\\n'\n",
      "         '    data2 = []\\n'\n",
      "         '    for line in inp:\\n'\n",
      "         \"        row = line.strip().split('\\t')\\n\"\n",
      "         '        if len(row) < dataheaderindex:\\n'\n",
      "         '            continue\\n'\n",
      "         '        # id = row[:dataheaderindex]\\n'\n",
      "         '        feature = list(map(float, row[dataheaderindex:]))\\n'\n",
      "         '        data.append(Vectors.dense(*feature))\\n'\n",
      "         '        nrows += 1\\n'\n",
      "         '        \\n'\n",
      "         '\\n'\n",
      "         'rdd = sc.parallelize(data)\\n'\n",
      "         '\\n'\n",
      "         'rddi = rdd.zipWithIndex()\\n'\n",
      "         '\\n'\n",
      "         'def dot_self(v):\\n'\n",
      "         '    return v.dot(v)\\n'\n",
      "         '    \\n'\n",
      "         'AA = rdd.map(dot_self).collect()\\n'\n",
      "         'print(AA)\\n'\n",
      "         '\\n'\n",
      "         'def tanimoto(veci):\\n'\n",
      "         '    vec, i = veci\\n'\n",
      "         '    data2 = [ABij / (AA[i] + AA[j] - ABij) for j, ABij in '\n",
      "         'enumerate(map(lambda vec2 : vec.dot(vec2), data[:i]))]\\n'\n",
      "         '    return data2\\n'\n",
      "         '  \\n'\n",
      "         'tanimotodf = rddi.map(tanimoto).collect()\\n'\n",
      "         '%json tanimotodf\\n',\n",
      " 'id': 26,\n",
      " 'output': {'data': {'application/json': [[],\n",
      "                                          [0.09052962610042761],\n",
      "                                          [0.5469027336657445,\n",
      "                                           0.0463593007011729],\n",
      "                                          [0.21765022563652114,\n",
      "                                           0.19920991869585314,\n",
      "                                           0.14177260267525013],\n",
      "                                          [0.058526821317668884,\n",
      "                                           0.10894499485038078,\n",
      "                                           0.04004578111452437,\n",
      "                                           0.3813597620293863],\n",
      "                                          [0.17152886376803891,\n",
      "                                           0.02935936617124591,\n",
      "                                           0.32940253215899457,\n",
      "                                           0.07215944748111593,\n",
      "                                           0.023264188539457883],\n",
      "                                          [0.13174506772246786,\n",
      "                                           0.013585239783545856,\n",
      "                                           0.2764273791246808,\n",
      "                                           0.03211720571867221,\n",
      "                                           0.009562006372270074,\n",
      "                                           0.07279029763518252],\n",
      "                                          [0.7017407292708816,\n",
      "                                           0.0967625559077445,\n",
      "                                           0.6537697134549831,\n",
      "                                           0.2684873542561289,\n",
      "                                           0.07253269128488347,\n",
      "                                           0.3111623304044326,\n",
      "                                           0.14182648664537392],\n",
      "                                          [0.6447813158200295,\n",
      "                                           0.07694028418554551,\n",
      "                                           0.48059849119313197,\n",
      "                                           0.3052366563004832,\n",
      "                                           0.07957998352843025,\n",
      "                                           0.24111938099371677,\n",
      "                                           0.09994087627075106,\n",
      "                                           0.708298387545028]],\n",
      "                     'text/plain': '[24739.915408000001, 1265.9528899999996, '\n",
      "                                   '70591.523350000018, 1197.3872999999999, '\n",
      "                                   '118.20108900000001, 54508.542524000004, '\n",
      "                                   '586291.13815900008, 20454.409091999994, '\n",
      "                                   '15201.404965000002]'},\n",
      "            'execution_count': 26,\n",
      "            'status': 'ok'},\n",
      " 'progress': 1.0,\n",
      " 'state': 'available'}\n"
     ]
    }
   ],
   "source": [
    "pprint.pprint(r.json())"
   ]
  },
  {
   "cell_type": "code",
   "execution_count": 112,
   "metadata": {
    "scrolled": false
   },
   "outputs": [
    {
     "name": "stdout",
     "output_type": "stream",
     "text": [
      "[[],\n",
      " [0.09052962610042761],\n",
      " [0.5469027336657445, 0.0463593007011729],\n",
      " [0.21765022563652114, 0.19920991869585314, 0.14177260267525013],\n",
      " [0.058526821317668884,\n",
      "  0.10894499485038078,\n",
      "  0.04004578111452437,\n",
      "  0.3813597620293863],\n",
      " [0.17152886376803891,\n",
      "  0.02935936617124591,\n",
      "  0.32940253215899457,\n",
      "  0.07215944748111593,\n",
      "  0.023264188539457883],\n",
      " [0.13174506772246786,\n",
      "  0.013585239783545856,\n",
      "  0.2764273791246808,\n",
      "  0.03211720571867221,\n",
      "  0.009562006372270074,\n",
      "  0.07279029763518252],\n",
      " [0.7017407292708816,\n",
      "  0.0967625559077445,\n",
      "  0.6537697134549831,\n",
      "  0.2684873542561289,\n",
      "  0.07253269128488347,\n",
      "  0.3111623304044326,\n",
      "  0.14182648664537392],\n",
      " [0.6447813158200295,\n",
      "  0.07694028418554551,\n",
      "  0.48059849119313197,\n",
      "  0.3052366563004832,\n",
      "  0.07957998352843025,\n",
      "  0.24111938099371677,\n",
      "  0.09994087627075106,\n",
      "  0.708298387545028]]\n"
     ]
    }
   ],
   "source": [
    "pprint.pprint(r.json()[\"output\"][\"data\"][\"application/json\"])"
   ]
  },
  {
   "cell_type": "code",
   "execution_count": 124,
   "metadata": {},
   "outputs": [],
   "source": [
    "code = '''\n",
    "from pyspark import SparkContext\n",
    "from pyspark import SparkFiles\n",
    "from pyspark.ml.linalg import Vectors\n",
    "from pyspark.ml.stat import Correlation\n",
    "\n",
    "path = SparkFiles.get(\"gtex_rnaseq_prep_profiles.tsv\")\n",
    "\n",
    "dataheaderindex = 2\n",
    "\n",
    "with open(path) as inp:\n",
    "    headers = inp.readline().strip().split(\"\\t\")\n",
    "    # ids = []\n",
    "    # features = []\n",
    "    data = []\n",
    "    for line in inp:\n",
    "        row = line.strip().split('\\t')\n",
    "        if len(row) < dataheaderindex:\n",
    "            continue\n",
    "        # id = row[:dataheaderindex]\n",
    "        feature = map(float, row[dataheaderindex:])\n",
    "        data.append(feature)\n",
    "    data2 = list(map(lambda x : [Vectors.dense(*x)], zip(*data)))\n",
    "\n",
    "df = spark.createDataFrame(data2, [\"features\"])\n",
    "\n",
    "r1 = Correlation.corr(df, \"features\").head()\n",
    "print(\"Pearson correlation matrix:\\\\n\" + str(r1))\n",
    "\n",
    "r2 = Correlation.corr(df, \"features\", \"spearman\").head()\n",
    "print(\"Spearman correlation matrix:\\\\n\" + str(r2))\n",
    "'''\n"
   ]
  },
  {
   "cell_type": "code",
   "execution_count": 125,
   "metadata": {},
   "outputs": [
    {
     "ename": "KeyError",
     "evalue": "'location'",
     "output_type": "error",
     "traceback": [
      "\u001b[0;31m---------------------------------------------------------------------------\u001b[0m",
      "\u001b[0;31mKeyError\u001b[0m                                  Traceback (most recent call last)",
      "\u001b[0;32m<ipython-input-125-62068d58f915>\u001b[0m in \u001b[0;36m<module>\u001b[0;34m()\u001b[0m\n\u001b[0;32m----> 1\u001b[0;31m \u001b[0mr\u001b[0m \u001b[0;34m=\u001b[0m \u001b[0mlivy\u001b[0m\u001b[0;34m.\u001b[0m\u001b[0mexecStatement\u001b[0m\u001b[0;34m(\u001b[0m\u001b[0mhost\u001b[0m\u001b[0;34m,\u001b[0m \u001b[0msession_url\u001b[0m\u001b[0;34m,\u001b[0m \u001b[0mcode\u001b[0m\u001b[0;34m)\u001b[0m\u001b[0;34m\u001b[0m\u001b[0m\n\u001b[0m",
      "\u001b[0;32m/jupyter/livy.py\u001b[0m in \u001b[0;36mexecStatement\u001b[0;34m(host, session_url, code, files)\u001b[0m\n\u001b[1;32m     23\u001b[0m     \u001b[0mdata\u001b[0m \u001b[0;34m=\u001b[0m \u001b[0;34m{\u001b[0m\u001b[0;34m'code'\u001b[0m\u001b[0;34m:\u001b[0m \u001b[0mcode\u001b[0m\u001b[0;34m}\u001b[0m\u001b[0;34m\u001b[0m\u001b[0m\n\u001b[1;32m     24\u001b[0m     \u001b[0mr\u001b[0m \u001b[0;34m=\u001b[0m \u001b[0mrequests\u001b[0m\u001b[0;34m.\u001b[0m\u001b[0mpost\u001b[0m\u001b[0;34m(\u001b[0m\u001b[0mstatements_url\u001b[0m\u001b[0;34m,\u001b[0m \u001b[0mdata\u001b[0m\u001b[0;34m=\u001b[0m\u001b[0mjson\u001b[0m\u001b[0;34m.\u001b[0m\u001b[0mdumps\u001b[0m\u001b[0;34m(\u001b[0m\u001b[0mdata\u001b[0m\u001b[0;34m)\u001b[0m\u001b[0;34m,\u001b[0m \u001b[0mheaders\u001b[0m\u001b[0;34m=\u001b[0m\u001b[0mheaders\u001b[0m\u001b[0;34m)\u001b[0m\u001b[0;34m\u001b[0m\u001b[0m\n\u001b[0;32m---> 25\u001b[0;31m     \u001b[0mstatement_url\u001b[0m \u001b[0;34m=\u001b[0m \u001b[0mhost\u001b[0m \u001b[0;34m+\u001b[0m \u001b[0mr\u001b[0m\u001b[0;34m.\u001b[0m\u001b[0mheaders\u001b[0m\u001b[0;34m[\u001b[0m\u001b[0;34m'Location'\u001b[0m\u001b[0;34m]\u001b[0m\u001b[0;34m\u001b[0m\u001b[0m\n\u001b[0m\u001b[1;32m     26\u001b[0m     \u001b[0mr\u001b[0m \u001b[0;34m=\u001b[0m \u001b[0mrequests\u001b[0m\u001b[0;34m.\u001b[0m\u001b[0mget\u001b[0m\u001b[0;34m(\u001b[0m\u001b[0mstatement_url\u001b[0m\u001b[0;34m,\u001b[0m \u001b[0mheaders\u001b[0m\u001b[0;34m=\u001b[0m\u001b[0mheaders\u001b[0m\u001b[0;34m)\u001b[0m\u001b[0;34m\u001b[0m\u001b[0m\n\u001b[1;32m     27\u001b[0m     \u001b[0;32mwhile\u001b[0m \u001b[0mr\u001b[0m\u001b[0;34m.\u001b[0m\u001b[0mjson\u001b[0m\u001b[0;34m(\u001b[0m\u001b[0;34m)\u001b[0m\u001b[0;34m[\u001b[0m\u001b[0;34m\"state\"\u001b[0m\u001b[0;34m]\u001b[0m \u001b[0;32min\u001b[0m \u001b[0;34m[\u001b[0m\u001b[0;34m\"waiting\"\u001b[0m\u001b[0;34m,\u001b[0m \u001b[0;34m\"running\"\u001b[0m\u001b[0;34m,\u001b[0m \u001b[0;34m\"cancelling\"\u001b[0m\u001b[0;34m]\u001b[0m\u001b[0;34m:\u001b[0m\u001b[0;34m\u001b[0m\u001b[0m\n",
      "\u001b[0;32m/usr/local/lib/python3.5/dist-packages/requests/structures.py\u001b[0m in \u001b[0;36m__getitem__\u001b[0;34m(self, key)\u001b[0m\n\u001b[1;32m     50\u001b[0m \u001b[0;34m\u001b[0m\u001b[0m\n\u001b[1;32m     51\u001b[0m     \u001b[0;32mdef\u001b[0m \u001b[0m__getitem__\u001b[0m\u001b[0;34m(\u001b[0m\u001b[0mself\u001b[0m\u001b[0;34m,\u001b[0m \u001b[0mkey\u001b[0m\u001b[0;34m)\u001b[0m\u001b[0;34m:\u001b[0m\u001b[0;34m\u001b[0m\u001b[0m\n\u001b[0;32m---> 52\u001b[0;31m         \u001b[0;32mreturn\u001b[0m \u001b[0mself\u001b[0m\u001b[0;34m.\u001b[0m\u001b[0m_store\u001b[0m\u001b[0;34m[\u001b[0m\u001b[0mkey\u001b[0m\u001b[0;34m.\u001b[0m\u001b[0mlower\u001b[0m\u001b[0;34m(\u001b[0m\u001b[0;34m)\u001b[0m\u001b[0;34m]\u001b[0m\u001b[0;34m[\u001b[0m\u001b[0;36m1\u001b[0m\u001b[0;34m]\u001b[0m\u001b[0;34m\u001b[0m\u001b[0m\n\u001b[0m\u001b[1;32m     53\u001b[0m \u001b[0;34m\u001b[0m\u001b[0m\n\u001b[1;32m     54\u001b[0m     \u001b[0;32mdef\u001b[0m \u001b[0m__delitem__\u001b[0m\u001b[0;34m(\u001b[0m\u001b[0mself\u001b[0m\u001b[0;34m,\u001b[0m \u001b[0mkey\u001b[0m\u001b[0;34m)\u001b[0m\u001b[0;34m:\u001b[0m\u001b[0;34m\u001b[0m\u001b[0m\n",
      "\u001b[0;31mKeyError\u001b[0m: 'location'"
     ]
    }
   ],
   "source": [
    "r = livy.execStatement(host, session_url, code)"
   ]
  },
  {
   "cell_type": "code",
   "execution_count": 115,
   "metadata": {
    "scrolled": true
   },
   "outputs": [
    {
     "name": "stdout",
     "output_type": "stream",
     "text": [
      "{'code': '\\n'\n",
      "         'from pyspark import SparkContext\\n'\n",
      "         'from pyspark import SparkFiles\\n'\n",
      "         'from pyspark.ml.linalg import Vectors\\n'\n",
      "         'from pyspark.ml.stat import Correlation\\n'\n",
      "         '\\n'\n",
      "         'path = SparkFiles.get(\"gtex_rnaseq_prep_profiles.tsv\")\\n'\n",
      "         '\\n'\n",
      "         'dataheaderindex = 2\\n'\n",
      "         '\\n'\n",
      "         'with open(path) as inp:\\n'\n",
      "         '    headers = inp.readline().strip().split(\"\\t\")\\n'\n",
      "         '    # ids = []\\n'\n",
      "         '    # features = []\\n'\n",
      "         '    data = []\\n'\n",
      "         '    for line in inp:\\n'\n",
      "         \"        row = line.strip().split('\\t')\\n\"\n",
      "         '        if len(row) < dataheaderindex:\\n'\n",
      "         '            continue\\n'\n",
      "         '        # id = row[:dataheaderindex]\\n'\n",
      "         '        feature = map(float, row[dataheaderindex:])\\n'\n",
      "         '        data.append(feature)\\n'\n",
      "         '    data2 = list(map(lambda x : [Vectors.dense(*x)], zip(*data)))\\n'\n",
      "         '\\n'\n",
      "         'df = spark.createDataFrame(data2, [\"features\"])\\n'\n",
      "         '\\n'\n",
      "         'r1 = Correlation.corr(df, \"features\").head()\\n'\n",
      "         'print(\"Pearson correlation matrix:\\\\n\" + str(r1))\\n'\n",
      "         '\\n'\n",
      "         'r2 = Correlation.corr(df, \"features\", \"spearman\").head()\\n'\n",
      "         'print(\"Spearman correlation matrix:\\\\n\" + str(r2))\\n',\n",
      " 'id': 27,\n",
      " 'output': {'data': {'text/plain': 'Pearson correlation matrix:\\n'\n",
      "                                   'Row(pearson(features)=DenseMatrix(9, 9, '\n",
      "                                   '[1.0, 0.2447, 0.2068, 0.4914, 0.3069, '\n",
      "                                   '-0.0747, 0.1278, 0.3957, ..., 0.0188, '\n",
      "                                   '0.2582, 0.5914, 0.3462, 0.1979, 0.0447, '\n",
      "                                   '0.3077, 1.0], False))\\n'\n",
      "                                   'Spearman correlation matrix:\\n'\n",
      "                                   'Row(spearman(features)=DenseMatrix(9, 9, '\n",
      "                                   '[1.0, 0.223, 0.3006, 0.4801, 0.3286, '\n",
      "                                   '0.3539, 0.37, 0.5528, ..., 0.1393, 0.2525, '\n",
      "                                   '0.4988, 0.3717, 0.4857, 0.1324, 0.3615, '\n",
      "                                   '1.0], False))'},\n",
      "            'execution_count': 27,\n",
      "            'status': 'ok'},\n",
      " 'progress': 1.0,\n",
      " 'state': 'available'}\n"
     ]
    }
   ],
   "source": [
    "pprint.pprint(r.json())"
   ]
  },
  {
   "cell_type": "code",
   "execution_count": 116,
   "metadata": {
    "scrolled": false
   },
   "outputs": [
    {
     "name": "stdout",
     "output_type": "stream",
     "text": [
      "{'text/plain': 'Pearson correlation matrix:\\n'\n",
      "               'Row(pearson(features)=DenseMatrix(9, 9, [1.0, 0.2447, 0.2068, '\n",
      "               '0.4914, 0.3069, -0.0747, 0.1278, 0.3957, ..., 0.0188, 0.2582, '\n",
      "               '0.5914, 0.3462, 0.1979, 0.0447, 0.3077, 1.0], False))\\n'\n",
      "               'Spearman correlation matrix:\\n'\n",
      "               'Row(spearman(features)=DenseMatrix(9, 9, [1.0, 0.223, 0.3006, '\n",
      "               '0.4801, 0.3286, 0.3539, 0.37, 0.5528, ..., 0.1393, 0.2525, '\n",
      "               '0.4988, 0.3717, 0.4857, 0.1324, 0.3615, 1.0], False))'}\n"
     ]
    }
   ],
   "source": [
    "pprint.pprint(r.json()[\"output\"][\"data\"])"
   ]
  },
  {
   "cell_type": "code",
   "execution_count": 117,
   "metadata": {},
   "outputs": [],
   "source": [
    "livy.closeSession(session_url)"
   ]
  },
  {
   "cell_type": "code",
   "execution_count": null,
   "metadata": {},
   "outputs": [],
   "source": []
  },
  {
   "cell_type": "code",
   "execution_count": null,
   "metadata": {},
   "outputs": [],
   "source": []
  }
 ],
 "metadata": {
  "kernelspec": {
   "display_name": "Python 3",
   "language": "python",
   "name": "python3"
  },
  "language_info": {
   "codemirror_mode": {
    "name": "ipython",
    "version": 3
   },
   "file_extension": ".py",
   "mimetype": "text/x-python",
   "name": "python",
   "nbconvert_exporter": "python",
   "pygments_lexer": "ipython3",
   "version": "3.5.2"
  }
 },
 "nbformat": 4,
 "nbformat_minor": 2
}
