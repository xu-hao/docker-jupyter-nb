{
 "cells": [
  {
   "cell_type": "code",
   "execution_count": 1,
   "metadata": {},
   "outputs": [],
   "source": [
    "input_file = \"gtex_rnaseq_prep_profiles.tsv\"\n",
    "n = 1000\n",
    "pivot_url = \"http://34.205.23.216:9191\""
   ]
  },
  {
   "cell_type": "code",
   "execution_count": 2,
   "metadata": {},
   "outputs": [],
   "source": [
    "import livy, pprint, requests, time, json"
   ]
  },
  {
   "cell_type": "code",
   "execution_count": 3,
   "metadata": {},
   "outputs": [],
   "source": [
    "host = livy.getHostUrl(pivot_url)"
   ]
  },
  {
   "cell_type": "code",
   "execution_count": null,
   "metadata": {},
   "outputs": [
    {
     "name": "stdout",
     "output_type": "stream",
     "text": [
      "."
     ]
    }
   ],
   "source": [
    "session_url = livy.openSession(host)"
   ]
  },
  {
   "cell_type": "code",
   "execution_count": null,
   "metadata": {},
   "outputs": [],
   "source": [
    "upload_file_url = session_url + \"/upload-file\""
   ]
  },
  {
   "cell_type": "code",
   "execution_count": null,
   "metadata": {},
   "outputs": [],
   "source": [
    "requests.post(upload_file_url, files={\"file\": open(input_file,\"rb\")})"
   ]
  },
  {
   "cell_type": "code",
   "execution_count": null,
   "metadata": {},
   "outputs": [],
   "source": [
    "def code1(input_file, n):\n",
    "    return '''\n",
    "from pyspark import SparkContext\n",
    "from pyspark import SparkFiles\n",
    "from pyspark.ml.linalg import Vectors, Matrices\n",
    "from pyspark.ml.stat import Correlation\n",
    "import math\n",
    "\n",
    "input_file = ''' + json.dumps(input_file) + '''\n",
    "n = ''' + json.dumps(n) + '''\n",
    "path = SparkFiles.get(input_file)\n",
    "\n",
    "dataheaderindex = 2\n",
    "max_rows = n\n",
    "\n",
    "def to_float(i):\n",
    "    def f(jx):\n",
    "        j, x = jx\n",
    "        try:\n",
    "            return float(x)\n",
    "        except:\n",
    "            print(\"WARNING: non number \\\\\"{0}\\\\\" at ({1}, {2}) is set to 0\".format(i, j, x))\n",
    "            return 0\n",
    "    return f\n",
    "        \n",
    "        \n",
    "with open(path) as inp:\n",
    "    headers = inp.readline().strip().split(\"\\t\")\n",
    "    # ids = []\n",
    "    # features = []\n",
    "    ncols = len(headers) - dataheaderindex\n",
    "    nrows = 0\n",
    "    data = []\n",
    "    for line in inp:\n",
    "        if nrows >= max_rows:\n",
    "            break\n",
    "        row = line.strip().split('\\t')\n",
    "        row2 = row[dataheaderindex:]\n",
    "        if len(row2) != ncols:\n",
    "            print(\"WARNING: number of cols doesn't match at row {0} truncated with default value 0\".format(nrows))\n",
    "            while len(row2) < ncols:\n",
    "                row2.append(\"0\")\n",
    "            row2 = row2[:ncols] \n",
    "        # id = row[:dataheaderindex]\n",
    "        feature = list(map(to_float(nrows), enumerate(row2)))\n",
    "        data.append(Vectors.dense(*feature))\n",
    "        nrows += 1\n",
    "'''"
   ]
  },
  {
   "cell_type": "code",
   "execution_count": null,
   "metadata": {},
   "outputs": [],
   "source": [
    "def code2(input_file, n):\n",
    "    return code1(input_file, n) + '''\n",
    "rdd = sc.parallelize(data)\n",
    "\n",
    "rddi = rdd.zipWithIndex()\n",
    "\n",
    "def dot_self(v):\n",
    "    return v.dot(v)\n",
    "    \n",
    "AA = rdd.map(dot_self).collect()\n",
    "\n",
    "def tanimoto(veci):\n",
    "    vec, i = veci\n",
    "    data2 = [ABij / (AA[i] + AA[j] - ABij) for j, ABij in enumerate(map(lambda vec2 : vec.dot(vec2), data[:i]))]\n",
    "    return data2\n",
    "  \n",
    "tanimotodf = rddi.map(tanimoto).collect()\n",
    "%table tanimotodf\n",
    "'''"
   ]
  },
  {
   "cell_type": "code",
   "execution_count": null,
   "metadata": {},
   "outputs": [],
   "source": [
    "t0 = time.time()\n",
    "r = livy.execStatement(host, session_url, code2(input_file, n))\n",
    "t1 = time.time()\n",
    "print()\n",
    "print(t1 - t0)"
   ]
  },
  {
   "cell_type": "code",
   "execution_count": null,
   "metadata": {
    "scrolled": false
   },
   "outputs": [],
   "source": [
    "pprint.pprint(r.json()[\"output\"][\"data\"][\"application/vnd.livy.table.v1+json\"][\"data\"][:10])"
   ]
  },
  {
   "cell_type": "code",
   "execution_count": null,
   "metadata": {},
   "outputs": [],
   "source": [
    "def code3(input_file, n):\n",
    "    return code1(input_file, n) + '''\n",
    "data2 = list(map(lambda x : [Vectors.dense(*x)], zip(*data)))\n",
    "\n",
    "df = spark.createDataFrame(data2, [\"features\"])\n",
    "\n",
    "r1 = Correlation.corr(df, \"features\").head()\n",
    "print(\"Pearson correlation matrix:\\\\n\" + str(r1))\n",
    "\n",
    "r2 = Correlation.corr(df, \"features\", \"spearman\").head()\n",
    "print(\"Spearman correlation matrix:\\\\n\" + str(r2))\n",
    "'''"
   ]
  },
  {
   "cell_type": "code",
   "execution_count": null,
   "metadata": {},
   "outputs": [],
   "source": [
    "t0 = time.time()\n",
    "r = livy.execStatement(host, session_url, code3(input_file, n))\n",
    "t1 = time.time()\n",
    "print()\n",
    "print(t1 - t0)"
   ]
  },
  {
   "cell_type": "code",
   "execution_count": null,
   "metadata": {
    "scrolled": false
   },
   "outputs": [],
   "source": [
    "pprint.pprint(r.json()[\"output\"][\"data\"])"
   ]
  },
  {
   "cell_type": "code",
   "execution_count": null,
   "metadata": {},
   "outputs": [],
   "source": [
    "livy.closeSession(session_url)"
   ]
  },
  {
   "cell_type": "code",
   "execution_count": null,
   "metadata": {},
   "outputs": [],
   "source": []
  }
 ],
 "metadata": {
  "kernelspec": {
   "display_name": "Python 3",
   "language": "python",
   "name": "python3"
  },
  "language_info": {
   "codemirror_mode": {
    "name": "ipython",
    "version": 3
   },
   "file_extension": ".py",
   "mimetype": "text/x-python",
   "name": "python",
   "nbconvert_exporter": "python",
   "pygments_lexer": "ipython3",
   "version": "3.5.2"
  }
 },
 "nbformat": 4,
 "nbformat_minor": 2
}
