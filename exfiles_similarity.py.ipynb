{
 "cells": [
  {
   "cell_type": "code",
   "execution_count": 1,
   "metadata": {},
   "outputs": [],
   "source": [
    "input_file = \"gtex_rnaseq_prep_profiles.tsv\"\n",
    "n = 1000\n",
    "pivot_url = \"http://34.205.23.216:9191\""
   ]
  },
  {
   "cell_type": "code",
   "execution_count": 2,
   "metadata": {},
   "outputs": [],
   "source": [
    "import livy, pprint, requests, time, json"
   ]
  },
  {
   "cell_type": "code",
   "execution_count": 3,
   "metadata": {},
   "outputs": [],
   "source": [
    "host = livy.getHostUrl(pivot_url)"
   ]
  },
  {
   "cell_type": "code",
   "execution_count": 4,
   "metadata": {},
   "outputs": [
    {
     "name": "stdout",
     "output_type": "stream",
     "text": [
      ".........................."
     ]
    }
   ],
   "source": [
    "session_url = livy.openSession(host)"
   ]
  },
  {
   "cell_type": "code",
   "execution_count": 5,
   "metadata": {},
   "outputs": [],
   "source": [
    "upload_file_url = session_url + \"/upload-file\""
   ]
  },
  {
   "cell_type": "code",
   "execution_count": 6,
   "metadata": {},
   "outputs": [
    {
     "data": {
      "text/plain": [
       "<Response [200]>"
      ]
     },
     "execution_count": 6,
     "metadata": {},
     "output_type": "execute_result"
    }
   ],
   "source": [
    "requests.post(upload_file_url, files={\"file\": open(input_file,\"rb\")})"
   ]
  },
  {
   "cell_type": "code",
   "execution_count": 7,
   "metadata": {},
   "outputs": [],
   "source": [
    "def code1(input_file, n):\n",
    "    return '''\n",
    "from pyspark import SparkContext\n",
    "from pyspark import SparkFiles\n",
    "from pyspark.ml.linalg import Vectors, Matrices\n",
    "from pyspark.ml.stat import Correlation\n",
    "import math\n",
    "\n",
    "input_file = ''' + json.dumps(input_file) + '''\n",
    "n = ''' + json.dumps(n) + '''\n",
    "path = SparkFiles.get(input_file)\n",
    "\n",
    "dataheaderindex = 2\n",
    "max_rows = n\n",
    "\n",
    "def to_float(i):\n",
    "    def f(jx):\n",
    "        j, x = jx\n",
    "        try:\n",
    "            return float(x)\n",
    "        except:\n",
    "            print(\"WARNING: non number \\\\\"{0}\\\\\" at ({1}, {2}) is set to 0\".format(i, j, x))\n",
    "            return 0\n",
    "    return f\n",
    "        \n",
    "        \n",
    "with open(path) as inp:\n",
    "    headers = inp.readline().strip().split(\"\\t\")\n",
    "    # ids = []\n",
    "    # features = []\n",
    "    ncols = len(headers) - dataheaderindex\n",
    "    nrows = 0\n",
    "    data = []\n",
    "    for line in inp:\n",
    "        if nrows >= max_rows:\n",
    "            break\n",
    "        row = line.strip().split('\\t')\n",
    "        row2 = row[dataheaderindex:]\n",
    "        if len(row2) != ncols:\n",
    "            print(\"WARNING: number of cols doesn't match at row {0} truncated with default value 0\".format(nrows))\n",
    "            while len(row2) < ncols:\n",
    "                row2.append(\"0\")\n",
    "            row2 = row2[:ncols] \n",
    "        # id = row[:dataheaderindex]\n",
    "        feature = list(map(to_float(nrows), enumerate(row2)))\n",
    "        data.append(Vectors.dense(*feature))\n",
    "        nrows += 1\n",
    "'''"
   ]
  },
  {
   "cell_type": "code",
   "execution_count": 8,
   "metadata": {},
   "outputs": [],
   "source": [
    "def code2(input_file, n):\n",
    "    return code1(input_file, n) + '''\n",
    "rdd = sc.parallelize(data)\n",
    "\n",
    "rddi = rdd.zipWithIndex()\n",
    "\n",
    "def dot_self(v):\n",
    "    return v.dot(v)\n",
    "    \n",
    "AA = rdd.map(dot_self).collect()\n",
    "\n",
    "def tanimoto(veci):\n",
    "    vec, i = veci\n",
    "    data2 = [ABij / (AA[i] + AA[j] - ABij) for j, ABij in enumerate(map(lambda vec2 : vec.dot(vec2), data[:i]))]\n",
    "    return data2\n",
    "  \n",
    "tanimotodf = rddi.map(tanimoto).collect()\n",
    "%table tanimotodf\n",
    "'''"
   ]
  },
  {
   "cell_type": "code",
   "execution_count": 9,
   "metadata": {},
   "outputs": [
    {
     "name": "stdout",
     "output_type": "stream",
     "text": [
      "............\n",
      "15.550307512283325\n"
     ]
    }
   ],
   "source": [
    "t0 = time.time()\n",
    "r = livy.execStatement(host, session_url, code2(input_file, n))\n",
    "t1 = time.time()\n",
    "print()\n",
    "print(t1 - t0)"
   ]
  },
  {
   "cell_type": "code",
   "execution_count": 10,
   "metadata": {
    "scrolled": false
   },
   "outputs": [
    {
     "name": "stdout",
     "output_type": "stream",
     "text": [
      "[[],\n",
      " ['0.0905296261004'],\n",
      " ['0.546902733666', '0.0463593007012'],\n",
      " ['0.217650225637', '0.199209918696', '0.141772602675'],\n",
      " ['0.0585268213177', '0.10894499485', '0.0400457811145', '0.381359762029'],\n",
      " ['0.171528863768',\n",
      "  '0.0293593661712',\n",
      "  '0.329402532159',\n",
      "  '0.0721594474811',\n",
      "  '0.0232641885395'],\n",
      " ['0.131745067722',\n",
      "  '0.0135852397835',\n",
      "  '0.276427379125',\n",
      "  '0.0321172057187',\n",
      "  '0.00956200637227',\n",
      "  '0.0727902976352'],\n",
      " ['0.701740729271',\n",
      "  '0.0967625559077',\n",
      "  '0.653769713455',\n",
      "  '0.268487354256',\n",
      "  '0.0725326912849',\n",
      "  '0.311162330404',\n",
      "  '0.141826486645'],\n",
      " ['0.64478131582',\n",
      "  '0.0769402841855',\n",
      "  '0.480598491193',\n",
      "  '0.3052366563',\n",
      "  '0.0795799835284',\n",
      "  '0.241119380994',\n",
      "  '0.0999408762708',\n",
      "  '0.708298387545'],\n",
      " ['0.509372123107',\n",
      "  '0.149857244534',\n",
      "  '0.36286006184',\n",
      "  '0.552544568935',\n",
      "  '0.148303858523',\n",
      "  '0.192931521568',\n",
      "  '0.0736253279493',\n",
      "  '0.660676333988',\n",
      "  '0.639326407225']]\n"
     ]
    }
   ],
   "source": [
    "pprint.pprint(r.json()[\"output\"][\"data\"][\"application/vnd.livy.table.v1+json\"][\"data\"][:10])"
   ]
  },
  {
   "cell_type": "code",
   "execution_count": 11,
   "metadata": {},
   "outputs": [],
   "source": [
    "def code3(input_file, n):\n",
    "    return code1(input_file, n) + '''\n",
    "data2 = list(map(lambda x : [Vectors.dense(*x)], zip(*data)))\n",
    "\n",
    "df = spark.createDataFrame(data2, [\"features\"])\n",
    "\n",
    "r1 = Correlation.corr(df, \"features\").head()\n",
    "print(\"Pearson correlation matrix:\\\\n\" + str(r1))\n",
    "\n",
    "r2 = Correlation.corr(df, \"features\", \"spearman\").head()\n",
    "print(\"Spearman correlation matrix:\\\\n\" + str(r2))\n",
    "'''"
   ]
  },
  {
   "cell_type": "code",
   "execution_count": 12,
   "metadata": {},
   "outputs": [
    {
     "name": "stdout",
     "output_type": "stream",
     "text": [
      "..............\n",
      "14.964808464050293\n"
     ]
    }
   ],
   "source": [
    "t0 = time.time()\n",
    "r = livy.execStatement(host, session_url, code3(input_file, n))\n",
    "t1 = time.time()\n",
    "print()\n",
    "print(t1 - t0)"
   ]
  },
  {
   "cell_type": "code",
   "execution_count": 13,
   "metadata": {
    "scrolled": false
   },
   "outputs": [
    {
     "name": "stdout",
     "output_type": "stream",
     "text": [
      "{'text/plain': 'WARNING: non number \"577\" at (6, ) is set to 0\\n'\n",
      "               'WARNING: non number \"605\" at (6, ) is set to 0\\n'\n",
      "               'Pearson correlation matrix:\\n'\n",
      "               'Row(pearson(features)=DenseMatrix(1000, 1000, [1.0, 0.2447, '\n",
      "               '0.2068, 0.4914, 0.3069, -0.0747, 0.1278, 0.3957, ..., 0.1628, '\n",
      "               '0.7181, 0.1993, 0.5056, 0.0839, 0.276, 0.8454, 1.0], False))\\n'\n",
      "               'Spearman correlation matrix:\\n'\n",
      "               'Row(spearman(features)=DenseMatrix(1000, 1000, [1.0, 0.223, '\n",
      "               '0.3006, 0.4801, 0.3286, 0.3539, 0.37, 0.5528, ..., 0.111, '\n",
      "               '0.6925, 0.5141, 0.4888, 0.2645, 0.1221, 0.7179, 1.0], False))'}\n"
     ]
    }
   ],
   "source": [
    "pprint.pprint(r.json()[\"output\"][\"data\"])"
   ]
  },
  {
   "cell_type": "code",
   "execution_count": 14,
   "metadata": {},
   "outputs": [],
   "source": [
    "livy.closeSession(session_url)"
   ]
  },
  {
   "cell_type": "code",
   "execution_count": null,
   "metadata": {},
   "outputs": [],
   "source": []
  }
 ],
 "metadata": {
  "kernelspec": {
   "display_name": "Python 3",
   "language": "python",
   "name": "python3"
  },
  "language_info": {
   "codemirror_mode": {
    "name": "ipython",
    "version": 3
   },
   "file_extension": ".py",
   "mimetype": "text/x-python",
   "name": "python",
   "nbconvert_exporter": "python",
   "pygments_lexer": "ipython3",
   "version": "3.5.2"
  }
 },
 "nbformat": 4,
 "nbformat_minor": 2
}
