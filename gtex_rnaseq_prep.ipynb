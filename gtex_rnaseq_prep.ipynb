{
 "cells": [
  {
   "cell_type": "code",
   "execution_count": 27,
   "metadata": {},
   "outputs": [
    {
     "name": "stdout",
     "output_type": "stream",
     "text": [
      "env: GTEX_DATA_PATH_1=input/\n",
      "env: GTEX_DATA_PATH_2=input/\n",
      "env: GTEX_TMP_PATH=./\n",
      "env: GTEX_OUTPUT_PATH=output/\n"
     ]
    }
   ],
   "source": [
    "%env GTEX_DATA_PATH_1=input/\n",
    "%env GTEX_DATA_PATH_2=input/\n",
    "%env GTEX_TMP_PATH=./\n",
    "%env GTEX_OUTPUT_PATH=output/"
   ]
  },
  {
   "cell_type": "markdown",
   "metadata": {
    "colab_type": "text",
    "id": "vB7J5P7Vszpg"
   },
   "source": [
    "<table width=\"100%\" style=\"border:none\">\n",
    "  <tr>\n",
    "    <td valign=\"top\">\n",
    "      <h1>GTEx RNAseq Preprocessing</h1>\n",
    "      <ul>\n",
    "<li>Author: Jeremy Yang\n",
    "<li>Based on R code by Oleg Ursu.\n",
    "<li>Clean, tidy, reshape RNAseq expression data.\n",
    "<li>Compute tissue specificity index (Yanai et al., 2004).\n",
    "<li>Save files for downstream SABV expression profile analytics.\n",
    "<li>[About Colaboratory](https://research.google.com/colaboratory/faq.html).\n",
    "      </ul>\n",
    "    </td>\n",
    "    <td align=\"right\">\n",
    "        <p>NIH Data Commons: Team Helium</p>\n",
    "<img style=\"float:right\" width=\"100\" src=\"https://avatars2.githubusercontent.com/u/33356654?s=200&v=4\" alt=\"HeliumDataCommons Logo\" />\n",
    "    </td>\n",
    "  </tr>\n",
    "  </table>\n",
    " "
   ]
  },
  {
   "cell_type": "code",
   "execution_count": 28,
   "metadata": {
    "colab": {
     "autoexec": {
      "startup": false,
      "wait_interval": 0
     },
     "base_uri": "https://localhost:8080/",
     "height": 68
    },
    "colab_type": "code",
    "executionInfo": {
     "elapsed": 14656,
     "status": "ok",
     "timestamp": 1530807615733,
     "user": {
      "displayName": "Michael Garcia",
      "photoUrl": "//lh5.googleusercontent.com/-lwDXOeG4VdQ/AAAAAAAAAAI/AAAAAAAAADQ/S9YZ2bOMJlA/s50-c-k-no/photo.jpg",
      "userId": "114807685045609381858"
     },
     "user_tz": 360
    },
    "id": "StWvpEEEef7p",
    "outputId": "51dc28bb-7bf8-410c-d073-5e47ddd4d589"
   },
   "outputs": [
    {
     "name": "stdout",
     "output_type": "stream",
     "text": [
      "Python: 3.5.2 (default, Nov 23 2017, 16:37:01) \n",
      "[GCC 5.4.0 20160609]\n",
      "Pandas: 0.22.0\n"
     ]
    }
   ],
   "source": [
    "import sys,os,re,time,io\n",
    "import urllib.request\n",
    "import numpy,scipy,matplotlib\n",
    "import pandas\n",
    "import os\n",
    "from irods.session import iRODSSession\n",
    "\n",
    "print('Python: %s\\nPandas: %s'%(sys.version,pandas.__version__))"
   ]
  },
  {
   "cell_type": "markdown",
   "metadata": {},
   "source": [
    "### Define input files\n",
    "1. GTEx_v7_Annotations_SubjectPhenotypesDS.txt\n",
    "- GTEx_v7_Annotations_SampleAttributesDS.txt\n",
    "- GTEx_Analysis_2016-01-15_v7_RNASeQCv1.1.8_gene_tpm.gct.gz (1k sample)\n",
    "- biomart_ENSG2NCBI.tsv"
   ]
  },
  {
   "cell_type": "code",
   "execution_count": 29,
   "metadata": {},
   "outputs": [
    {
     "name": "stdout",
     "output_type": "stream",
     "text": [
      "PATH 1: input/\n",
      "PATH 2: input/\n"
     ]
    }
   ],
   "source": [
    "def isession():\n",
    "    return\n",
    "    irods_user = os.environ[\"IRODS_USER\"]\n",
    "    irods_password = os.environ[\"IRODS_PASSWORD\"]\n",
    "    irods_host = os.environ[\"IRODS_HOST\"]\n",
    "    irods_port = os.environ[\"IRODS_PORT\"]\n",
    "    irods_zone = os.environ[\"IRODS_ZONE\"]\n",
    "    return iRODSSession(host=irods_host, port=irods_port, user=irods_user, password=irods_password, zone=irods_zone)\n",
    "\n",
    "def iget(irods_file, file):\n",
    "    return\n",
    "    with isession() as session:\n",
    "        session.data_objects.get(irods_file, file)\n",
    "        \n",
    "def iput(irods_file, file):\n",
    "    return\n",
    "    with isession() as session:\n",
    "        session.data_objects.put(file, irods_file)\n",
    "\n",
    "data_dir_path_1=os.environ['GTEX_DATA_PATH_1']\n",
    "data_dir_path_2=os.environ['GTEX_DATA_PATH_2']\n",
    "tmp_dir_path=os.environ[\"GTEX_TMP_PATH\"]\n",
    "out_dir_path=os.environ['GTEX_OUTPUT_PATH']\n",
    "print('PATH 1: %s' % data_dir_path_1)\n",
    "print('PATH 2: %s' % data_dir_path_2)\n",
    "irods_subj_pheno_file=data_dir_path_1 + \"GTEx_v7_Annotations_SubjectPhenotypesDS.txt\"\n",
    "irods_sample_attribs_file=data_dir_path_1 + \"GTEx_v7_Annotations_SampleAttributesDS.txt\"\n",
    "irods_gene_tpm_file=data_dir_path_2 + \"GTEx_Analysis_2016-01-15_v7_RNASeQCv1.1.8_gene_tpm.gct.gz\"\n",
    "irods_biomart_file=data_dir_path_2 + \"biomart_ENSG2NCBI.tsv\"\n",
    "subj_pheno_file=tmp_dir_path + \"GTEx_v7_Annotations_SubjectPhenotypesDS.txt\"\n",
    "sample_attribs_file=tmp_dir_path + \"GTEx_v7_Annotations_SampleAttributesDS.txt\"\n",
    "gene_tpm_file=tmp_dir_path + \"GTEx_Analysis_2016-01-15_v7_RNASeQCv1.1.8_gene_tpm.gct.gz\"\n",
    "biomart_file=tmp_dir_path + \"biomart_ENSG2NCBI.tsv\""
   ]
  },
  {
   "cell_type": "markdown",
   "metadata": {
    "colab_type": "text",
    "id": "cwKhzyFo1L21"
   },
   "source": [
    "### Upload subjects datafile:\n",
    "(GTEx_v7_Annotations_SubjectPhenotypesDS.txt)"
   ]
  },
  {
   "cell_type": "code",
   "execution_count": 36,
   "metadata": {
    "colab": {
     "autoexec": {
      "startup": false,
      "wait_interval": 0
     },
     "base_uri": "https://localhost:8080/",
     "resources": {
      "http://localhost:8080/nbextensions/google.colab/files.js": {
       "data": "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",
       "headers": [
        [
         "content-type",
         "application/javascript"
        ]
       ],
       "ok": true,
       "status": 200,
       "status_text": ""
      }
     }
    },
    "colab_type": "code",
    "id": "1SMOnt2P1Zfv",
    "outputId": "f05f2eff-e404-4ea6-f5ec-d6edab982e84"
   },
   "outputs": [
    {
     "name": "stdout",
     "output_type": "stream",
     "text": [
      "Upload GTEx Subjects datafile: \n"
     ]
    },
    {
     "name": "stderr",
     "output_type": "stream",
     "text": [
      "dataset nrows: 752 ; ncols: 3:\n"
     ]
    }
   ],
   "source": [
    "print('Upload GTEx Subjects datafile: ')\n",
    "iget(irods_subj_pheno_file, subj_pheno_file)\n",
    "subjects = pandas.read_csv(subj_pheno_file, sep='\\t', index_col='SUBJID')\n",
    "print(\"dataset nrows: %d ; ncols: %d:\"%(subjects.shape[0],subjects.shape[1]), file=sys.stderr)"
   ]
  },
  {
   "cell_type": "code",
   "execution_count": 37,
   "metadata": {
    "colab": {
     "autoexec": {
      "startup": false,
      "wait_interval": 0
     },
     "base_uri": "https://localhost:8080/",
     "height": 235
    },
    "colab_type": "code",
    "executionInfo": {
     "elapsed": 346,
     "status": "ok",
     "timestamp": 1529936890654,
     "user": {
      "displayName": "Jeremy Yang",
      "photoUrl": "//lh4.googleusercontent.com/-oulNnl1aBlA/AAAAAAAAAAI/AAAAAAAAAm4/uOczRUUkS4g/s50-c-k-no/photo.jpg",
      "userId": "102807397641040966212"
     },
     "user_tz": 360
    },
    "id": "zLyV_boFRtSO",
    "outputId": "36cff513-cba5-4b6c-88be-372a69301115"
   },
   "outputs": [
    {
     "data": {
      "text/html": [
       "<div>\n",
       "<style scoped>\n",
       "    .dataframe tbody tr th:only-of-type {\n",
       "        vertical-align: middle;\n",
       "    }\n",
       "\n",
       "    .dataframe tbody tr th {\n",
       "        vertical-align: top;\n",
       "    }\n",
       "\n",
       "    .dataframe thead th {\n",
       "        text-align: right;\n",
       "    }\n",
       "</style>\n",
       "<table border=\"1\" class=\"dataframe\">\n",
       "  <thead>\n",
       "    <tr style=\"text-align: right;\">\n",
       "      <th></th>\n",
       "      <th>SEX</th>\n",
       "      <th>AGE</th>\n",
       "      <th>DTHHRDY</th>\n",
       "    </tr>\n",
       "    <tr>\n",
       "      <th>SUBJID</th>\n",
       "      <th></th>\n",
       "      <th></th>\n",
       "      <th></th>\n",
       "    </tr>\n",
       "  </thead>\n",
       "  <tbody>\n",
       "    <tr>\n",
       "      <th>GTEX-1117F</th>\n",
       "      <td>2</td>\n",
       "      <td>60-69</td>\n",
       "      <td>4.0</td>\n",
       "    </tr>\n",
       "    <tr>\n",
       "      <th>GTEX-111CU</th>\n",
       "      <td>1</td>\n",
       "      <td>50-59</td>\n",
       "      <td>0.0</td>\n",
       "    </tr>\n",
       "    <tr>\n",
       "      <th>GTEX-111FC</th>\n",
       "      <td>1</td>\n",
       "      <td>60-69</td>\n",
       "      <td>1.0</td>\n",
       "    </tr>\n",
       "    <tr>\n",
       "      <th>GTEX-111VG</th>\n",
       "      <td>1</td>\n",
       "      <td>60-69</td>\n",
       "      <td>3.0</td>\n",
       "    </tr>\n",
       "    <tr>\n",
       "      <th>GTEX-111YS</th>\n",
       "      <td>1</td>\n",
       "      <td>60-69</td>\n",
       "      <td>0.0</td>\n",
       "    </tr>\n",
       "  </tbody>\n",
       "</table>\n",
       "</div>"
      ],
      "text/plain": [
       "            SEX    AGE  DTHHRDY\n",
       "SUBJID                         \n",
       "GTEX-1117F    2  60-69      4.0\n",
       "GTEX-111CU    1  50-59      0.0\n",
       "GTEX-111FC    1  60-69      1.0\n",
       "GTEX-111VG    1  60-69      3.0\n",
       "GTEX-111YS    1  60-69      0.0"
      ]
     },
     "execution_count": 37,
     "metadata": {},
     "output_type": "execute_result"
    }
   ],
   "source": [
    "subjects.head()"
   ]
  },
  {
   "cell_type": "code",
   "execution_count": 38,
   "metadata": {
    "colab": {
     "autoexec": {
      "startup": false,
      "wait_interval": 0
     },
     "base_uri": "https://localhost:8080/",
     "height": 143
    },
    "colab_type": "code",
    "executionInfo": {
     "elapsed": 349,
     "status": "ok",
     "timestamp": 1529936894196,
     "user": {
      "displayName": "Jeremy Yang",
      "photoUrl": "//lh4.googleusercontent.com/-oulNnl1aBlA/AAAAAAAAAAI/AAAAAAAAAm4/uOczRUUkS4g/s50-c-k-no/photo.jpg",
      "userId": "102807397641040966212"
     },
     "user_tz": 360
    },
    "id": "XDjnIBHN6PC2",
    "outputId": "6156843a-60b7-43f6-909f-0a9ded8ee8e2"
   },
   "outputs": [
    {
     "data": {
      "text/plain": [
       "20-29     58\n",
       "30-39     53\n",
       "40-49    124\n",
       "50-59    253\n",
       "60-69    241\n",
       "70-79     23\n",
       "Name: AGE, dtype: int64"
      ]
     },
     "execution_count": 38,
     "metadata": {},
     "output_type": "execute_result"
    }
   ],
   "source": [
    "subjects.AGE.value_counts().sort_index()"
   ]
  },
  {
   "cell_type": "markdown",
   "metadata": {
    "colab_type": "text",
    "id": "00ru0X8O1yRw"
   },
   "source": [
    "### Keep only healthier subjects: \n",
    "(DTHHRDY = 4-point Hardy Scale Death Classification.)"
   ]
  },
  {
   "cell_type": "code",
   "execution_count": 39,
   "metadata": {
    "colab": {
     "autoexec": {
      "startup": false,
      "wait_interval": 0
     },
     "base_uri": "https://localhost:8080/",
     "height": 125
    },
    "colab_type": "code",
    "executionInfo": {
     "elapsed": 330,
     "status": "ok",
     "timestamp": 1529936896460,
     "user": {
      "displayName": "Jeremy Yang",
      "photoUrl": "//lh4.googleusercontent.com/-oulNnl1aBlA/AAAAAAAAAAI/AAAAAAAAAm4/uOczRUUkS4g/s50-c-k-no/photo.jpg",
      "userId": "102807397641040966212"
     },
     "user_tz": 360
    },
    "id": "DOhgbLkGBD3A",
    "outputId": "61f06478-ba32-40df-fddd-54416b11f955"
   },
   "outputs": [
    {
     "name": "stderr",
     "output_type": "stream",
     "text": [
      "Subjects with Hardy score > 2 or NA: 124 (removing)\n",
      "dataset ncols: 609 ; nrows: 3:\n"
     ]
    },
    {
     "data": {
      "text/plain": [
       "0.0    390\n",
       "1.0     29\n",
       "2.0    190\n",
       "Name: DTHHRDY, dtype: int64"
      ]
     },
     "execution_count": 39,
     "metadata": {},
     "output_type": "execute_result"
    }
   ],
   "source": [
    "print(\"Subjects with Hardy score > 2 or NA: %d (removing)\"%(subjects.query('DTHHRDY > 2').shape[0]), file=sys.stderr)\n",
    "subjects = subjects.query('DTHHRDY <= 2')\n",
    "print(\"dataset ncols: %d ; nrows: %d:\"%(subjects.shape[0],subjects.shape[1]), file=sys.stderr)\n",
    "subjects.DTHHRDY.value_counts(sort=True, dropna=False).sort_index()"
   ]
  },
  {
   "cell_type": "markdown",
   "metadata": {
    "colab_type": "text",
    "id": "DQV5a6eVplg5"
   },
   "source": [
    "### Upload samples datafile:\n",
    "(GTEx_v7_Annotations_SampleAttributesDS.txt)"
   ]
  },
  {
   "cell_type": "code",
   "execution_count": 40,
   "metadata": {
    "colab": {
     "autoexec": {
      "startup": false,
      "wait_interval": 0
     },
     "base_uri": "https://localhost:8080/",
     "height": 127
    },
    "colab_type": "code",
    "executionInfo": {
     "elapsed": 36106,
     "status": "ok",
     "timestamp": 1529936934969,
     "user": {
      "displayName": "Jeremy Yang",
      "photoUrl": "//lh4.googleusercontent.com/-oulNnl1aBlA/AAAAAAAAAAI/AAAAAAAAAm4/uOczRUUkS4g/s50-c-k-no/photo.jpg",
      "userId": "102807397641040966212"
     },
     "user_tz": 360
    },
    "id": "xfMAdBTnexYS",
    "outputId": "19dd200f-671a-4154-b54c-3f407c253e91"
   },
   "outputs": [
    {
     "name": "stdout",
     "output_type": "stream",
     "text": [
      "Upload GTEx Samples datafile: \n"
     ]
    },
    {
     "name": "stderr",
     "output_type": "stream",
     "text": [
      "dataset nrows: 15598 ; ncols: 3:\n"
     ]
    }
   ],
   "source": [
    "print('Upload GTEx Samples datafile: ')\n",
    "samples = pandas.read_csv(sample_attribs_file, sep='\\t', index_col='SAMPID')\n",
    "samples = samples[['SMATSSCR', 'SMTS', 'SMTSD']]\n",
    "print(\"dataset nrows: %d ; ncols: %d:\"%(samples.shape[0],samples.shape[1]), file=sys.stderr)"
   ]
  },
  {
   "cell_type": "markdown",
   "metadata": {
    "colab_type": "text",
    "id": "JVR2KlrrxPFk"
   },
   "source": [
    "SUBJID is first two hyphen-delimted fields of SAMPID."
   ]
  },
  {
   "cell_type": "code",
   "execution_count": 41,
   "metadata": {
    "colab": {
     "autoexec": {
      "startup": false,
      "wait_interval": 0
     },
     "base_uri": "https://localhost:8080/",
     "height": 0
    },
    "colab_type": "code",
    "executionInfo": {
     "elapsed": 408,
     "status": "ok",
     "timestamp": 1529936939378,
     "user": {
      "displayName": "Jeremy Yang",
      "photoUrl": "//lh4.googleusercontent.com/-oulNnl1aBlA/AAAAAAAAAAI/AAAAAAAAAm4/uOczRUUkS4g/s50-c-k-no/photo.jpg",
      "userId": "102807397641040966212"
     },
     "user_tz": 360
    },
    "id": "GUPSF541upk0",
    "outputId": "a30bd383-416a-42a2-8e25-92ba45ac60a3"
   },
   "outputs": [],
   "source": [
    "samples['SUBJID'] = samples.index\n",
    "samples['SUBJID'] = samples.SUBJID.str.extract('^([^-]+-[^-]+)-', expand=True)"
   ]
  },
  {
   "cell_type": "code",
   "execution_count": 42,
   "metadata": {
    "colab": {
     "autoexec": {
      "startup": false,
      "wait_interval": 0
     },
     "base_uri": "https://localhost:8080/",
     "height": 235
    },
    "colab_type": "code",
    "executionInfo": {
     "elapsed": 329,
     "status": "ok",
     "timestamp": 1529936943493,
     "user": {
      "displayName": "Jeremy Yang",
      "photoUrl": "//lh4.googleusercontent.com/-oulNnl1aBlA/AAAAAAAAAAI/AAAAAAAAAm4/uOczRUUkS4g/s50-c-k-no/photo.jpg",
      "userId": "102807397641040966212"
     },
     "user_tz": 360
    },
    "id": "YZJjVYIWR27k",
    "outputId": "ff08078f-8292-4356-fff8-7c4744fe9dd4"
   },
   "outputs": [
    {
     "data": {
      "text/html": [
       "<div>\n",
       "<style scoped>\n",
       "    .dataframe tbody tr th:only-of-type {\n",
       "        vertical-align: middle;\n",
       "    }\n",
       "\n",
       "    .dataframe tbody tr th {\n",
       "        vertical-align: top;\n",
       "    }\n",
       "\n",
       "    .dataframe thead th {\n",
       "        text-align: right;\n",
       "    }\n",
       "</style>\n",
       "<table border=\"1\" class=\"dataframe\">\n",
       "  <thead>\n",
       "    <tr style=\"text-align: right;\">\n",
       "      <th></th>\n",
       "      <th>SMATSSCR</th>\n",
       "      <th>SMTS</th>\n",
       "      <th>SMTSD</th>\n",
       "      <th>SUBJID</th>\n",
       "    </tr>\n",
       "    <tr>\n",
       "      <th>SAMPID</th>\n",
       "      <th></th>\n",
       "      <th></th>\n",
       "      <th></th>\n",
       "      <th></th>\n",
       "    </tr>\n",
       "  </thead>\n",
       "  <tbody>\n",
       "    <tr>\n",
       "      <th>GTEX-1117F-0003-SM-58Q7G</th>\n",
       "      <td>NaN</td>\n",
       "      <td>Blood</td>\n",
       "      <td>Whole Blood</td>\n",
       "      <td>GTEX-1117F</td>\n",
       "    </tr>\n",
       "    <tr>\n",
       "      <th>GTEX-1117F-0003-SM-5DWSB</th>\n",
       "      <td>NaN</td>\n",
       "      <td>Blood</td>\n",
       "      <td>Whole Blood</td>\n",
       "      <td>GTEX-1117F</td>\n",
       "    </tr>\n",
       "    <tr>\n",
       "      <th>GTEX-1117F-0003-SM-6WBT7</th>\n",
       "      <td>NaN</td>\n",
       "      <td>Blood</td>\n",
       "      <td>Whole Blood</td>\n",
       "      <td>GTEX-1117F</td>\n",
       "    </tr>\n",
       "    <tr>\n",
       "      <th>GTEX-1117F-0226-SM-5GZZ7</th>\n",
       "      <td>0.0</td>\n",
       "      <td>Adipose Tissue</td>\n",
       "      <td>Adipose - Subcutaneous</td>\n",
       "      <td>GTEX-1117F</td>\n",
       "    </tr>\n",
       "    <tr>\n",
       "      <th>GTEX-1117F-0426-SM-5EGHI</th>\n",
       "      <td>0.0</td>\n",
       "      <td>Muscle</td>\n",
       "      <td>Muscle - Skeletal</td>\n",
       "      <td>GTEX-1117F</td>\n",
       "    </tr>\n",
       "  </tbody>\n",
       "</table>\n",
       "</div>"
      ],
      "text/plain": [
       "                          SMATSSCR            SMTS                   SMTSD  \\\n",
       "SAMPID                                                                       \n",
       "GTEX-1117F-0003-SM-58Q7G       NaN           Blood             Whole Blood   \n",
       "GTEX-1117F-0003-SM-5DWSB       NaN           Blood             Whole Blood   \n",
       "GTEX-1117F-0003-SM-6WBT7       NaN           Blood             Whole Blood   \n",
       "GTEX-1117F-0226-SM-5GZZ7       0.0  Adipose Tissue  Adipose - Subcutaneous   \n",
       "GTEX-1117F-0426-SM-5EGHI       0.0          Muscle       Muscle - Skeletal   \n",
       "\n",
       "                              SUBJID  \n",
       "SAMPID                                \n",
       "GTEX-1117F-0003-SM-58Q7G  GTEX-1117F  \n",
       "GTEX-1117F-0003-SM-5DWSB  GTEX-1117F  \n",
       "GTEX-1117F-0003-SM-6WBT7  GTEX-1117F  \n",
       "GTEX-1117F-0226-SM-5GZZ7  GTEX-1117F  \n",
       "GTEX-1117F-0426-SM-5EGHI  GTEX-1117F  "
      ]
     },
     "execution_count": 42,
     "metadata": {},
     "output_type": "execute_result"
    }
   ],
   "source": [
    "samples.head()"
   ]
  },
  {
   "cell_type": "markdown",
   "metadata": {
    "colab_type": "text",
    "id": "zrITfg3v3iQ1"
   },
   "source": [
    "### MERGE samples and subjects:"
   ]
  },
  {
   "cell_type": "code",
   "execution_count": 43,
   "metadata": {
    "colab": {
     "autoexec": {
      "startup": false,
      "wait_interval": 0
     },
     "base_uri": "https://localhost:8080/",
     "height": 235
    },
    "colab_type": "code",
    "executionInfo": {
     "elapsed": 522,
     "status": "ok",
     "timestamp": 1529936946671,
     "user": {
      "displayName": "Jeremy Yang",
      "photoUrl": "//lh4.googleusercontent.com/-oulNnl1aBlA/AAAAAAAAAAI/AAAAAAAAAm4/uOczRUUkS4g/s50-c-k-no/photo.jpg",
      "userId": "102807397641040966212"
     },
     "user_tz": 360
    },
    "id": "fhQuOfNr3vo_",
    "outputId": "2dea6409-6cad-4e14-8b2c-11bad4a792a8"
   },
   "outputs": [
    {
     "data": {
      "text/html": [
       "<div>\n",
       "<style scoped>\n",
       "    .dataframe tbody tr th:only-of-type {\n",
       "        vertical-align: middle;\n",
       "    }\n",
       "\n",
       "    .dataframe tbody tr th {\n",
       "        vertical-align: top;\n",
       "    }\n",
       "\n",
       "    .dataframe thead th {\n",
       "        text-align: right;\n",
       "    }\n",
       "</style>\n",
       "<table border=\"1\" class=\"dataframe\">\n",
       "  <thead>\n",
       "    <tr style=\"text-align: right;\">\n",
       "      <th></th>\n",
       "      <th>SMATSSCR</th>\n",
       "      <th>SMTS</th>\n",
       "      <th>SMTSD</th>\n",
       "      <th>SUBJID</th>\n",
       "      <th>SEX</th>\n",
       "      <th>AGE</th>\n",
       "      <th>DTHHRDY</th>\n",
       "    </tr>\n",
       "    <tr>\n",
       "      <th>SAMPID</th>\n",
       "      <th></th>\n",
       "      <th></th>\n",
       "      <th></th>\n",
       "      <th></th>\n",
       "      <th></th>\n",
       "      <th></th>\n",
       "      <th></th>\n",
       "    </tr>\n",
       "  </thead>\n",
       "  <tbody>\n",
       "    <tr>\n",
       "      <th>GTEX-111CU-0003-SM-58Q95</th>\n",
       "      <td>NaN</td>\n",
       "      <td>Blood</td>\n",
       "      <td>Whole Blood</td>\n",
       "      <td>GTEX-111CU</td>\n",
       "      <td>1</td>\n",
       "      <td>50-59</td>\n",
       "      <td>0.0</td>\n",
       "    </tr>\n",
       "    <tr>\n",
       "      <th>GTEX-111CU-0003-SM-5DWTR</th>\n",
       "      <td>NaN</td>\n",
       "      <td>Blood</td>\n",
       "      <td>Whole Blood</td>\n",
       "      <td>GTEX-111CU</td>\n",
       "      <td>1</td>\n",
       "      <td>50-59</td>\n",
       "      <td>0.0</td>\n",
       "    </tr>\n",
       "    <tr>\n",
       "      <th>GTEX-111CU-0003-SM-6WBUD</th>\n",
       "      <td>NaN</td>\n",
       "      <td>Blood</td>\n",
       "      <td>Whole Blood</td>\n",
       "      <td>GTEX-111CU</td>\n",
       "      <td>1</td>\n",
       "      <td>50-59</td>\n",
       "      <td>0.0</td>\n",
       "    </tr>\n",
       "    <tr>\n",
       "      <th>GTEX-111CU-0126-SM-5GZWZ</th>\n",
       "      <td>0.0</td>\n",
       "      <td>Adrenal Gland</td>\n",
       "      <td>Adrenal Gland</td>\n",
       "      <td>GTEX-111CU</td>\n",
       "      <td>1</td>\n",
       "      <td>50-59</td>\n",
       "      <td>0.0</td>\n",
       "    </tr>\n",
       "    <tr>\n",
       "      <th>GTEX-111CU-0226-SM-5GZXC</th>\n",
       "      <td>0.0</td>\n",
       "      <td>Thyroid</td>\n",
       "      <td>Thyroid</td>\n",
       "      <td>GTEX-111CU</td>\n",
       "      <td>1</td>\n",
       "      <td>50-59</td>\n",
       "      <td>0.0</td>\n",
       "    </tr>\n",
       "  </tbody>\n",
       "</table>\n",
       "</div>"
      ],
      "text/plain": [
       "                          SMATSSCR           SMTS          SMTSD      SUBJID  \\\n",
       "SAMPID                                                                         \n",
       "GTEX-111CU-0003-SM-58Q95       NaN          Blood    Whole Blood  GTEX-111CU   \n",
       "GTEX-111CU-0003-SM-5DWTR       NaN          Blood    Whole Blood  GTEX-111CU   \n",
       "GTEX-111CU-0003-SM-6WBUD       NaN          Blood    Whole Blood  GTEX-111CU   \n",
       "GTEX-111CU-0126-SM-5GZWZ       0.0  Adrenal Gland  Adrenal Gland  GTEX-111CU   \n",
       "GTEX-111CU-0226-SM-5GZXC       0.0        Thyroid        Thyroid  GTEX-111CU   \n",
       "\n",
       "                          SEX    AGE  DTHHRDY  \n",
       "SAMPID                                         \n",
       "GTEX-111CU-0003-SM-58Q95    1  50-59      0.0  \n",
       "GTEX-111CU-0003-SM-5DWTR    1  50-59      0.0  \n",
       "GTEX-111CU-0003-SM-6WBUD    1  50-59      0.0  \n",
       "GTEX-111CU-0126-SM-5GZWZ    1  50-59      0.0  \n",
       "GTEX-111CU-0226-SM-5GZXC    1  50-59      0.0  "
      ]
     },
     "execution_count": 43,
     "metadata": {},
     "output_type": "execute_result"
    }
   ],
   "source": [
    "samples = pandas.merge(samples, subjects, how='inner', left_on='SUBJID', right_index=True)\n",
    "samples.head()"
   ]
  },
  {
   "cell_type": "markdown",
   "metadata": {
    "colab_type": "text",
    "id": "W_5vX8JGEg-R"
   },
   "source": [
    "### Clean & tidy cols. Remove samples with high degree of autolysis (self-digestion)."
   ]
  },
  {
   "cell_type": "code",
   "execution_count": 44,
   "metadata": {
    "colab": {
     "autoexec": {
      "startup": false,
      "wait_interval": 0
     },
     "base_uri": "https://localhost:8080/",
     "height": 89
    },
    "colab_type": "code",
    "executionInfo": {
     "elapsed": 318,
     "status": "ok",
     "timestamp": 1529936952700,
     "user": {
      "displayName": "Jeremy Yang",
      "photoUrl": "//lh4.googleusercontent.com/-oulNnl1aBlA/AAAAAAAAAAI/AAAAAAAAAm4/uOczRUUkS4g/s50-c-k-no/photo.jpg",
      "userId": "102807397641040966212"
     },
     "user_tz": 360
    },
    "id": "NLqHEPzFFGwL",
    "outputId": "d8b3f35e-d720-4e7b-a711-07de29b68fdd"
   },
   "outputs": [
    {
     "name": "stdout",
     "output_type": "stream",
     "text": [
      "(9279, 7)\n"
     ]
    },
    {
     "data": {
      "text/plain": [
       "female    3323\n",
       "male      5956\n",
       "Name: SEX, dtype: int64"
      ]
     },
     "execution_count": 44,
     "metadata": {},
     "output_type": "execute_result"
    }
   ],
   "source": [
    "samples.dropna(how='any', inplace=True)\n",
    "print(samples.shape)\n",
    "samples.SEX = samples.SEX.apply(lambda x: 'female' if x==2 else 'male' if x==1 else None)\n",
    "samples.SEX.value_counts().sort_index()"
   ]
  },
  {
   "cell_type": "code",
   "execution_count": 45,
   "metadata": {
    "colab": {
     "autoexec": {
      "startup": false,
      "wait_interval": 0
     },
     "base_uri": "https://localhost:8080/",
     "height": 35
    },
    "colab_type": "code",
    "executionInfo": {
     "elapsed": 310,
     "status": "ok",
     "timestamp": 1529936954442,
     "user": {
      "displayName": "Jeremy Yang",
      "photoUrl": "//lh4.googleusercontent.com/-oulNnl1aBlA/AAAAAAAAAAI/AAAAAAAAAm4/uOczRUUkS4g/s50-c-k-no/photo.jpg",
      "userId": "102807397641040966212"
     },
     "user_tz": 360
    },
    "id": "pwZ284GA2S8I",
    "outputId": "22c97c88-694d-4ec8-fe6c-a6b5db6ca4f3"
   },
   "outputs": [
    {
     "name": "stdout",
     "output_type": "stream",
     "text": [
      "(8422, 7)\n"
     ]
    }
   ],
   "source": [
    "samples = samples[samples.SMATSSCR < 2]\n",
    "print(samples.shape)"
   ]
  },
  {
   "cell_type": "code",
   "execution_count": 46,
   "metadata": {
    "colab": {
     "autoexec": {
      "startup": false,
      "wait_interval": 0
     },
     "base_uri": "https://localhost:8080/",
     "height": 0
    },
    "colab_type": "code",
    "executionInfo": {
     "elapsed": 327,
     "status": "ok",
     "timestamp": 1529936955894,
     "user": {
      "displayName": "Jeremy Yang",
      "photoUrl": "//lh4.googleusercontent.com/-oulNnl1aBlA/AAAAAAAAAAI/AAAAAAAAAm4/uOczRUUkS4g/s50-c-k-no/photo.jpg",
      "userId": "102807397641040966212"
     },
     "user_tz": 360
    },
    "id": "fkZ3s4ZPLWKl",
    "outputId": "d28ee7d7-8818-4b81-870d-99109e02352d"
   },
   "outputs": [],
   "source": [
    "samples.loc[(samples.SMTS.str.strip() == '') & samples.SMTSD.str.startswith(\"Skin -\"), 'SMTS'] = 'Skin'"
   ]
  },
  {
   "cell_type": "code",
   "execution_count": 47,
   "metadata": {
    "colab": {
     "autoexec": {
      "startup": false,
      "wait_interval": 0
     },
     "base_uri": "https://localhost:8080/",
     "height": 737
    },
    "colab_type": "code",
    "executionInfo": {
     "elapsed": 341,
     "status": "ok",
     "timestamp": 1529936958320,
     "user": {
      "displayName": "Jeremy Yang",
      "photoUrl": "//lh4.googleusercontent.com/-oulNnl1aBlA/AAAAAAAAAAI/AAAAAAAAAm4/uOczRUUkS4g/s50-c-k-no/photo.jpg",
      "userId": "102807397641040966212"
     },
     "user_tz": 360
    },
    "id": "4yzccK8flH02",
    "outputId": "ea653cc0-308c-49c7-e51c-a7be1b1fddb0",
    "scrolled": true
   },
   "outputs": [
    {
     "data": {
      "text/plain": [
       "Adipose Tissue : Adipose - Subcutaneous               430\n",
       "Adipose Tissue : Adipose - Visceral (Omentum)         315\n",
       "Adrenal Gland : Adrenal Gland                         159\n",
       "Bladder : Bladder                                       8\n",
       "Blood Vessel : Artery - Aorta                         274\n",
       "Blood Vessel : Artery - Coronary                      161\n",
       "Blood Vessel : Artery - Tibial                        452\n",
       "Brain : Brain - Cerebellum                            107\n",
       "Brain : Brain - Cortex                                 96\n",
       "Breast : Breast - Mammary Tissue                      250\n",
       "Cervix Uteri : Cervix - Ectocervix                      5\n",
       "Cervix Uteri : Cervix - Endocervix                      3\n",
       "Colon : Colon - Sigmoid                               193\n",
       "Colon : Colon - Transverse                            186\n",
       "Esophagus : Esophagus - Gastroesophageal Junction     240\n",
       "Esophagus : Esophagus - Mucosa                        370\n",
       "Esophagus : Esophagus - Muscularis                    358\n",
       "Fallopian Tube : Fallopian Tube                         7\n",
       "Heart : Heart - Atrial Appendage                      248\n",
       "Heart : Heart - Left Ventricle                        362\n",
       "Kidney : Kidney - Cortex                               14\n",
       "Liver : Liver                                         144\n",
       "Lung : Lung                                           388\n",
       "Muscle : Muscle - Skeletal                            568\n",
       "Nerve : Nerve - Tibial                                407\n",
       "Ovary : Ovary                                         117\n",
       "Pancreas : Pancreas                                   224\n",
       "Pituitary : Pituitary                                  82\n",
       "Prostate : Prostate                                   106\n",
       "Salivary Gland : Minor Salivary Gland                  95\n",
       "Skin : Skin - Not Sun Exposed (Suprapubic)            333\n",
       "Skin : Skin - Sun Exposed (Lower leg)                 477\n",
       "Small Intestine : Small Intestine - Terminal Ileum    112\n",
       "Spleen : Spleen                                       141\n",
       "Stomach : Stomach                                     202\n",
       "Testis : Testis                                       192\n",
       "Thyroid : Thyroid                                     405\n",
       "Uterus : Uterus                                        95\n",
       "Vagina : Vagina                                        96\n",
       "dtype: int64"
      ]
     },
     "execution_count": 47,
     "metadata": {},
     "output_type": "execute_result"
    }
   ],
   "source": [
    "(samples.SMTS+\" : \"+samples.SMTSD).value_counts().sort_index()"
   ]
  },
  {
   "cell_type": "markdown",
   "metadata": {
    "colab_type": "text",
    "id": "ZetBwy5jqOQk"
   },
   "source": [
    "### READ GENE TPMs (full or demo subset)\n",
    "Full file is ~56k rows, 2.6GB uncompressed.  Demo ~1k rows.\n",
    "\n",
    "*   GTEx_Analysis_2016-01-15_v7_RNASeQCv1.1.8_gene_tpm.gct.gz\n",
    "*   GTEx_Analysis_2016-01-15_v7_RNASeQCv1.1.8_gene_tpm_demo.gct.gz\n"
   ]
  },
  {
   "cell_type": "code",
   "execution_count": 48,
   "metadata": {
    "colab": {
     "autoexec": {
      "startup": false,
      "wait_interval": 0
     },
     "base_uri": "https://localhost:8080/",
     "height": 165
    },
    "colab_type": "code",
    "executionInfo": {
     "elapsed": 69052,
     "status": "ok",
     "timestamp": 1529937341734,
     "user": {
      "displayName": "Jeremy Yang",
      "photoUrl": "//lh4.googleusercontent.com/-oulNnl1aBlA/AAAAAAAAAAI/AAAAAAAAAm4/uOczRUUkS4g/s50-c-k-no/photo.jpg",
      "userId": "102807397641040966212"
     },
     "user_tz": 360
    },
    "id": "iAwlsefpq4dx",
    "outputId": "57332d92-a757-419b-fc3f-e97246b9d31d"
   },
   "outputs": [
    {
     "name": "stdout",
     "output_type": "stream",
     "text": [
      "Upload GTEx RNAseq TPM datafile: \n",
      "Elapsed: 4s\n"
     ]
    },
    {
     "name": "stderr",
     "output_type": "stream",
     "text": [
      "dataset nrows: 1502 ; ncols: 11690:\n"
     ]
    }
   ],
   "source": [
    "print('Upload GTEx RNAseq TPM datafile: ')\n",
    "t0 = time.time()\n",
    "iget(irods_gene_tpm_file, gene_tpm_file)\n",
    "rnaseq = pandas.read_table(open(gene_tpm_file,\"rb\"), compression='gzip', sep='\\t', skiprows=2, nrows=1502)\n",
    "print(\"dataset nrows: %d ; ncols: %d:\"%(rnaseq.shape[0],rnaseq.shape[1]), file=sys.stderr)\n",
    "print(\"Elapsed: %ds\"%(time.time()-t0))"
   ]
  },
  {
   "cell_type": "code",
   "execution_count": 49,
   "metadata": {
    "colab": {
     "autoexec": {
      "startup": false,
      "wait_interval": 0
     },
     "base_uri": "https://localhost:8080/",
     "height": 107
    },
    "colab_type": "code",
    "executionInfo": {
     "elapsed": 917,
     "status": "ok",
     "timestamp": 1529937345364,
     "user": {
      "displayName": "Jeremy Yang",
      "photoUrl": "//lh4.googleusercontent.com/-oulNnl1aBlA/AAAAAAAAAAI/AAAAAAAAAm4/uOczRUUkS4g/s50-c-k-no/photo.jpg",
      "userId": "102807397641040966212"
     },
     "user_tz": 360
    },
    "id": "TMVeLSeH3CwZ",
    "outputId": "9b1cc8b7-6aea-410a-c476-8e886b226a90"
   },
   "outputs": [
    {
     "name": "stdout",
     "output_type": "stream",
     "text": [
      "<class 'pandas.core.frame.DataFrame'>\n",
      "RangeIndex: 1502 entries, 0 to 1501\n",
      "Columns: 11690 entries, Name to GTEX-ZXG5-0005-SM-57WCN\n",
      "dtypes: float64(11688), object(2)\n",
      "memory usage: 134.0+ MB\n"
     ]
    }
   ],
   "source": [
    "rnaseq.info()"
   ]
  },
  {
   "cell_type": "code",
   "execution_count": 50,
   "metadata": {
    "colab": {
     "autoexec": {
      "startup": false,
      "wait_interval": 0
     },
     "base_uri": "https://localhost:8080/",
     "height": 233
    },
    "colab_type": "code",
    "executionInfo": {
     "elapsed": 276,
     "status": "ok",
     "timestamp": 1529937347221,
     "user": {
      "displayName": "Jeremy Yang",
      "photoUrl": "//lh4.googleusercontent.com/-oulNnl1aBlA/AAAAAAAAAAI/AAAAAAAAAm4/uOczRUUkS4g/s50-c-k-no/photo.jpg",
      "userId": "102807397641040966212"
     },
     "user_tz": 360
    },
    "id": "g0t_4RBswccq",
    "outputId": "4004df92-c6bd-4203-f9b6-c4ad42c58bd9"
   },
   "outputs": [
    {
     "data": {
      "text/plain": [
       "Index(['ENSG', 'GTEX-1117F-0226-SM-5GZZ7', 'GTEX-111CU-1826-SM-5GZYN',\n",
       "       'GTEX-111FC-0226-SM-5N9B8', 'GTEX-111VG-2326-SM-5N9BK',\n",
       "       'GTEX-111YS-2426-SM-5GZZQ', 'GTEX-1122O-2026-SM-5NQ91',\n",
       "       'GTEX-1128S-2126-SM-5H12U', 'GTEX-113IC-0226-SM-5HL5C',\n",
       "       'GTEX-117YX-2226-SM-5EGJJ',\n",
       "       ...\n",
       "       'GTEX-ZVE2-0006-SM-51MRW', 'GTEX-ZVP2-0005-SM-51MRK',\n",
       "       'GTEX-ZVT2-0005-SM-57WBW', 'GTEX-ZVT3-0006-SM-51MT9',\n",
       "       'GTEX-ZVT4-0006-SM-57WB8', 'GTEX-ZVTK-0006-SM-57WBK',\n",
       "       'GTEX-ZVZP-0006-SM-51MSW', 'GTEX-ZVZQ-0006-SM-51MR8',\n",
       "       'GTEX-ZXES-0005-SM-57WCB', 'GTEX-ZXG5-0005-SM-57WCN'],\n",
       "      dtype='object', length=11689)"
      ]
     },
     "execution_count": 50,
     "metadata": {},
     "output_type": "execute_result"
    }
   ],
   "source": [
    "rnaseq = rnaseq.drop(columns=['Description'])\n",
    "rnaseq = rnaseq.rename(columns={'Name':'ENSG'})\n",
    "rnaseq.columns"
   ]
  },
  {
   "cell_type": "markdown",
   "metadata": {
    "colab_type": "text",
    "id": "1LsGqo2Fxtp1"
   },
   "source": [
    "### MELT: One row per ENSG+SAMPID+TPM triplet:\n",
    "Easier to handle but ~3x storage."
   ]
  },
  {
   "cell_type": "code",
   "execution_count": 51,
   "metadata": {
    "colab": {
     "autoexec": {
      "startup": false,
      "wait_interval": 0
     },
     "base_uri": "https://localhost:8080/",
     "height": 0
    },
    "colab_type": "code",
    "executionInfo": {
     "elapsed": 761,
     "status": "ok",
     "timestamp": 1529937351695,
     "user": {
      "displayName": "Jeremy Yang",
      "photoUrl": "//lh4.googleusercontent.com/-oulNnl1aBlA/AAAAAAAAAAI/AAAAAAAAAm4/uOczRUUkS4g/s50-c-k-no/photo.jpg",
      "userId": "102807397641040966212"
     },
     "user_tz": 360
    },
    "id": "bSaZOsP_xkQ2",
    "outputId": "49680554-b999-439d-c374-12e7a036d698"
   },
   "outputs": [],
   "source": [
    "rnaseq = rnaseq.melt(id_vars = \"ENSG\", var_name = \"SAMPID\", value_name = \"TPM\")"
   ]
  },
  {
   "cell_type": "code",
   "execution_count": 52,
   "metadata": {
    "colab": {
     "autoexec": {
      "startup": false,
      "wait_interval": 0
     },
     "base_uri": "https://localhost:8080/",
     "height": 204
    },
    "colab_type": "code",
    "executionInfo": {
     "elapsed": 336,
     "status": "ok",
     "timestamp": 1529937353398,
     "user": {
      "displayName": "Jeremy Yang",
      "photoUrl": "//lh4.googleusercontent.com/-oulNnl1aBlA/AAAAAAAAAAI/AAAAAAAAAm4/uOczRUUkS4g/s50-c-k-no/photo.jpg",
      "userId": "102807397641040966212"
     },
     "user_tz": 360
    },
    "id": "3E0h4B2jzoK5",
    "outputId": "46e7a004-b116-43e5-f80d-7ca0242b16f6"
   },
   "outputs": [
    {
     "data": {
      "text/html": [
       "<div>\n",
       "<style scoped>\n",
       "    .dataframe tbody tr th:only-of-type {\n",
       "        vertical-align: middle;\n",
       "    }\n",
       "\n",
       "    .dataframe tbody tr th {\n",
       "        vertical-align: top;\n",
       "    }\n",
       "\n",
       "    .dataframe thead th {\n",
       "        text-align: right;\n",
       "    }\n",
       "</style>\n",
       "<table border=\"1\" class=\"dataframe\">\n",
       "  <thead>\n",
       "    <tr style=\"text-align: right;\">\n",
       "      <th></th>\n",
       "      <th>ENSG</th>\n",
       "      <th>SAMPID</th>\n",
       "      <th>TPM</th>\n",
       "    </tr>\n",
       "  </thead>\n",
       "  <tbody>\n",
       "    <tr>\n",
       "      <th>0</th>\n",
       "      <td>ENSG00000223972.4</td>\n",
       "      <td>GTEX-1117F-0226-SM-5GZZ7</td>\n",
       "      <td>0.10820</td>\n",
       "    </tr>\n",
       "    <tr>\n",
       "      <th>1</th>\n",
       "      <td>ENSG00000227232.4</td>\n",
       "      <td>GTEX-1117F-0226-SM-5GZZ7</td>\n",
       "      <td>21.40000</td>\n",
       "    </tr>\n",
       "    <tr>\n",
       "      <th>2</th>\n",
       "      <td>ENSG00000243485.2</td>\n",
       "      <td>GTEX-1117F-0226-SM-5GZZ7</td>\n",
       "      <td>0.16020</td>\n",
       "    </tr>\n",
       "    <tr>\n",
       "      <th>3</th>\n",
       "      <td>ENSG00000237613.2</td>\n",
       "      <td>GTEX-1117F-0226-SM-5GZZ7</td>\n",
       "      <td>0.05045</td>\n",
       "    </tr>\n",
       "    <tr>\n",
       "      <th>4</th>\n",
       "      <td>ENSG00000268020.2</td>\n",
       "      <td>GTEX-1117F-0226-SM-5GZZ7</td>\n",
       "      <td>0.00000</td>\n",
       "    </tr>\n",
       "  </tbody>\n",
       "</table>\n",
       "</div>"
      ],
      "text/plain": [
       "                ENSG                    SAMPID       TPM\n",
       "0  ENSG00000223972.4  GTEX-1117F-0226-SM-5GZZ7   0.10820\n",
       "1  ENSG00000227232.4  GTEX-1117F-0226-SM-5GZZ7  21.40000\n",
       "2  ENSG00000243485.2  GTEX-1117F-0226-SM-5GZZ7   0.16020\n",
       "3  ENSG00000237613.2  GTEX-1117F-0226-SM-5GZZ7   0.05045\n",
       "4  ENSG00000268020.2  GTEX-1117F-0226-SM-5GZZ7   0.00000"
      ]
     },
     "execution_count": 52,
     "metadata": {},
     "output_type": "execute_result"
    }
   ],
   "source": [
    "rnaseq.head()"
   ]
  },
  {
   "cell_type": "code",
   "execution_count": 53,
   "metadata": {
    "colab": {
     "autoexec": {
      "startup": false,
      "wait_interval": 0
     },
     "base_uri": "https://localhost:8080/",
     "height": 161
    },
    "colab_type": "code",
    "executionInfo": {
     "elapsed": 298,
     "status": "ok",
     "timestamp": 1529937355979,
     "user": {
      "displayName": "Jeremy Yang",
      "photoUrl": "//lh4.googleusercontent.com/-oulNnl1aBlA/AAAAAAAAAAI/AAAAAAAAAm4/uOczRUUkS4g/s50-c-k-no/photo.jpg",
      "userId": "102807397641040966212"
     },
     "user_tz": 360
    },
    "id": "X17IFQ43pg3i",
    "outputId": "bdf194b2-7587-4e5b-a08a-a0f095d2d7ff"
   },
   "outputs": [
    {
     "name": "stdout",
     "output_type": "stream",
     "text": [
      "<class 'pandas.core.frame.DataFrame'>\n",
      "RangeIndex: 17555376 entries, 0 to 17555375\n",
      "Data columns (total 3 columns):\n",
      "ENSG      object\n",
      "SAMPID    object\n",
      "TPM       float64\n",
      "dtypes: float64(1), object(2)\n",
      "memory usage: 401.8+ MB\n"
     ]
    }
   ],
   "source": [
    "rnaseq.info()"
   ]
  },
  {
   "cell_type": "markdown",
   "metadata": {
    "colab_type": "text",
    "id": "2rmvTu5upzFs"
   },
   "source": [
    "### Read and merge gene symbols.\n",
    " * /home/data/GTEx/data/biomart_ENSG2NCBI.tsv\n"
   ]
  },
  {
   "cell_type": "code",
   "execution_count": 54,
   "metadata": {
    "colab": {
     "autoexec": {
      "startup": false,
      "wait_interval": 0
     },
     "base_uri": "https://localhost:8080/",
     "height": 296
    },
    "colab_type": "code",
    "executionInfo": {
     "elapsed": 14419,
     "status": "ok",
     "timestamp": 1529959903709,
     "user": {
      "displayName": "Jeremy Yang",
      "photoUrl": "//lh4.googleusercontent.com/-oulNnl1aBlA/AAAAAAAAAAI/AAAAAAAAAm4/uOczRUUkS4g/s50-c-k-no/photo.jpg",
      "userId": "102807397641040966212"
     },
     "user_tz": 360
    },
    "id": "Xo2F7qVApyk0",
    "outputId": "1ac95019-f9ad-4613-92d4-f76327e2dbce",
    "scrolled": true
   },
   "outputs": [
    {
     "name": "stdout",
     "output_type": "stream",
     "text": [
      "Upload Biomart ENSG2NCBI genes datafile: \n"
     ]
    }
   ],
   "source": [
    "print('Upload Biomart ENSG2NCBI genes datafile: ')\n",
    "iget(irods_biomart_file, biomart_file)\n",
    "genes = pandas.read_csv(biomart_file, sep='\\t', usecols=[1,2,3], na_values=[''], dtype={2:str})\n",
    "genes.columns = ['ENSG','NCBI','HGNC']\n",
    "genes.dropna(inplace=True)"
   ]
  },
  {
   "cell_type": "code",
   "execution_count": 55,
   "metadata": {
    "colab": {
     "autoexec": {
      "startup": false,
      "wait_interval": 0
     },
     "base_uri": "https://localhost:8080/",
     "height": 161
    },
    "colab_type": "code",
    "executionInfo": {
     "elapsed": 314,
     "status": "ok",
     "timestamp": 1529959918473,
     "user": {
      "displayName": "Jeremy Yang",
      "photoUrl": "//lh4.googleusercontent.com/-oulNnl1aBlA/AAAAAAAAAAI/AAAAAAAAAm4/uOczRUUkS4g/s50-c-k-no/photo.jpg",
      "userId": "102807397641040966212"
     },
     "user_tz": 360
    },
    "id": "fegRBFc-tO00",
    "outputId": "e65ad7c5-6710-47ea-ad60-c7da63551d17"
   },
   "outputs": [
    {
     "name": "stdout",
     "output_type": "stream",
     "text": [
      "<class 'pandas.core.frame.DataFrame'>\n",
      "Int64Index: 27486 entries, 1 to 64717\n",
      "Data columns (total 3 columns):\n",
      "ENSG    27486 non-null object\n",
      "NCBI    27486 non-null object\n",
      "HGNC    27486 non-null object\n",
      "dtypes: object(3)\n",
      "memory usage: 858.9+ KB\n"
     ]
    }
   ],
   "source": [
    "genes.info()"
   ]
  },
  {
   "cell_type": "code",
   "execution_count": 56,
   "metadata": {
    "colab": {
     "autoexec": {
      "startup": false,
      "wait_interval": 0
     },
     "base_uri": "https://localhost:8080/",
     "height": 564
    },
    "colab_type": "code",
    "executionInfo": {
     "elapsed": 1882,
     "status": "ok",
     "timestamp": 1529959982153,
     "user": {
      "displayName": "Jeremy Yang",
      "photoUrl": "//lh4.googleusercontent.com/-oulNnl1aBlA/AAAAAAAAAAI/AAAAAAAAAm4/uOczRUUkS4g/s50-c-k-no/photo.jpg",
      "userId": "102807397641040966212"
     },
     "user_tz": 360
    },
    "id": "RSyD7C4Nt9vS",
    "outputId": "96b5b960-a630-4ed6-d754-343f07464384"
   },
   "outputs": [
    {
     "data": {
      "text/html": [
       "<div>\n",
       "<style scoped>\n",
       "    .dataframe tbody tr th:only-of-type {\n",
       "        vertical-align: middle;\n",
       "    }\n",
       "\n",
       "    .dataframe tbody tr th {\n",
       "        vertical-align: top;\n",
       "    }\n",
       "\n",
       "    .dataframe thead th {\n",
       "        text-align: right;\n",
       "    }\n",
       "</style>\n",
       "<table border=\"1\" class=\"dataframe\">\n",
       "  <thead>\n",
       "    <tr style=\"text-align: right;\">\n",
       "      <th></th>\n",
       "      <th>ENSG</th>\n",
       "      <th>NCBI</th>\n",
       "      <th>HGNC</th>\n",
       "      <th>SAMPID</th>\n",
       "      <th>TPM</th>\n",
       "    </tr>\n",
       "  </thead>\n",
       "  <tbody>\n",
       "    <tr>\n",
       "      <th>0</th>\n",
       "      <td>ENSG00000188786.9</td>\n",
       "      <td>4520</td>\n",
       "      <td>MTF1</td>\n",
       "      <td>GTEX-1117F-0226-SM-5GZZ7</td>\n",
       "      <td>6.860</td>\n",
       "    </tr>\n",
       "    <tr>\n",
       "      <th>1</th>\n",
       "      <td>ENSG00000188786.9</td>\n",
       "      <td>4520</td>\n",
       "      <td>MTF1</td>\n",
       "      <td>GTEX-111CU-1826-SM-5GZYN</td>\n",
       "      <td>7.475</td>\n",
       "    </tr>\n",
       "    <tr>\n",
       "      <th>2</th>\n",
       "      <td>ENSG00000188786.9</td>\n",
       "      <td>4520</td>\n",
       "      <td>MTF1</td>\n",
       "      <td>GTEX-111FC-0226-SM-5N9B8</td>\n",
       "      <td>7.574</td>\n",
       "    </tr>\n",
       "    <tr>\n",
       "      <th>3</th>\n",
       "      <td>ENSG00000188786.9</td>\n",
       "      <td>4520</td>\n",
       "      <td>MTF1</td>\n",
       "      <td>GTEX-111VG-2326-SM-5N9BK</td>\n",
       "      <td>4.898</td>\n",
       "    </tr>\n",
       "    <tr>\n",
       "      <th>4</th>\n",
       "      <td>ENSG00000188786.9</td>\n",
       "      <td>4520</td>\n",
       "      <td>MTF1</td>\n",
       "      <td>GTEX-111YS-2426-SM-5GZZQ</td>\n",
       "      <td>5.405</td>\n",
       "    </tr>\n",
       "  </tbody>\n",
       "</table>\n",
       "</div>"
      ],
      "text/plain": [
       "                ENSG  NCBI  HGNC                    SAMPID    TPM\n",
       "0  ENSG00000188786.9  4520  MTF1  GTEX-1117F-0226-SM-5GZZ7  6.860\n",
       "1  ENSG00000188786.9  4520  MTF1  GTEX-111CU-1826-SM-5GZYN  7.475\n",
       "2  ENSG00000188786.9  4520  MTF1  GTEX-111FC-0226-SM-5N9B8  7.574\n",
       "3  ENSG00000188786.9  4520  MTF1  GTEX-111VG-2326-SM-5N9BK  4.898\n",
       "4  ENSG00000188786.9  4520  MTF1  GTEX-111YS-2426-SM-5GZZQ  5.405"
      ]
     },
     "execution_count": 56,
     "metadata": {},
     "output_type": "execute_result"
    }
   ],
   "source": [
    "rnaseq = pandas.merge(genes, rnaseq, on='ENSG', how='inner')\n",
    "rnaseq.head()"
   ]
  },
  {
   "cell_type": "markdown",
   "metadata": {
    "colab_type": "text",
    "id": "jma3YSsCzxr7"
   },
   "source": [
    "### Remove genes in pseudoautosomal regions (PAR) of chromosome Y (\"ENSGR\")."
   ]
  },
  {
   "cell_type": "code",
   "execution_count": 57,
   "metadata": {
    "colab": {
     "autoexec": {
      "startup": false,
      "wait_interval": 0
     },
     "base_uri": "https://localhost:8080/",
     "height": 35
    },
    "colab_type": "code",
    "executionInfo": {
     "elapsed": 4655,
     "status": "ok",
     "timestamp": 1529937422595,
     "user": {
      "displayName": "Jeremy Yang",
      "photoUrl": "//lh4.googleusercontent.com/-oulNnl1aBlA/AAAAAAAAAAI/AAAAAAAAAm4/uOczRUUkS4g/s50-c-k-no/photo.jpg",
      "userId": "102807397641040966212"
     },
     "user_tz": 360
    },
    "id": "iuJLi_nVzuFM",
    "outputId": "7f788369-721c-4781-f438-42ac51523aeb"
   },
   "outputs": [
    {
     "name": "stdout",
     "output_type": "stream",
     "text": [
      "ENSGR gene TPMs: 0 (0.00%)\n"
     ]
    }
   ],
   "source": [
    "n_ensgr = rnaseq.ENSG.str.startswith('ENSGR').sum()\n",
    "print('ENSGR gene TPMs: %d (%.2f%%)'%(n_ensgr,100*n_ensgr/rnaseq.shape[0]))"
   ]
  },
  {
   "cell_type": "code",
   "execution_count": 58,
   "metadata": {
    "colab": {
     "autoexec": {
      "startup": false,
      "wait_interval": 0
     },
     "base_uri": "https://localhost:8080/",
     "height": 0
    },
    "colab_type": "code",
    "executionInfo": {
     "elapsed": 5033,
     "status": "ok",
     "timestamp": 1529937434967,
     "user": {
      "displayName": "Jeremy Yang",
      "photoUrl": "//lh4.googleusercontent.com/-oulNnl1aBlA/AAAAAAAAAAI/AAAAAAAAAm4/uOczRUUkS4g/s50-c-k-no/photo.jpg",
      "userId": "102807397641040966212"
     },
     "user_tz": 360
    },
    "id": "bSTgB436XZLq",
    "outputId": "e5402105-a81b-49b0-a772-391ec5e7ba3a"
   },
   "outputs": [],
   "source": [
    "rnaseq = rnaseq[~rnaseq.ENSG.str.startswith('ENSGR')]"
   ]
  },
  {
   "cell_type": "markdown",
   "metadata": {
    "colab_type": "text",
    "id": "DF1bdb1ct3vi"
   },
   "source": [
    "### Merge with samples:"
   ]
  },
  {
   "cell_type": "code",
   "execution_count": 59,
   "metadata": {
    "colab": {
     "autoexec": {
      "startup": false,
      "wait_interval": 0
     },
     "base_uri": "https://localhost:8080/",
     "height": 0
    },
    "colab_type": "code",
    "executionInfo": {
     "elapsed": 2202,
     "status": "ok",
     "timestamp": 1529937455950,
     "user": {
      "displayName": "Jeremy Yang",
      "photoUrl": "//lh4.googleusercontent.com/-oulNnl1aBlA/AAAAAAAAAAI/AAAAAAAAAm4/uOczRUUkS4g/s50-c-k-no/photo.jpg",
      "userId": "102807397641040966212"
     },
     "user_tz": 360
    },
    "id": "KPzImSwat7Mi",
    "outputId": "4dba5d3e-7ba5-4afc-c88c-688456f0d482"
   },
   "outputs": [],
   "source": [
    "rnaseq = pandas.merge(rnaseq, samples, how=\"inner\", left_on=\"SAMPID\", right_index=True)"
   ]
  },
  {
   "cell_type": "code",
   "execution_count": 60,
   "metadata": {
    "colab": {
     "autoexec": {
      "startup": false,
      "wait_interval": 0
     },
     "base_uri": "https://localhost:8080/",
     "height": 204
    },
    "colab_type": "code",
    "executionInfo": {
     "elapsed": 357,
     "status": "ok",
     "timestamp": 1529937458635,
     "user": {
      "displayName": "Jeremy Yang",
      "photoUrl": "//lh4.googleusercontent.com/-oulNnl1aBlA/AAAAAAAAAAI/AAAAAAAAAm4/uOczRUUkS4g/s50-c-k-no/photo.jpg",
      "userId": "102807397641040966212"
     },
     "user_tz": 360
    },
    "id": "qaWd-f4nVBgo",
    "outputId": "e71402b1-98ca-4e36-b2b8-217faf132590"
   },
   "outputs": [
    {
     "data": {
      "text/html": [
       "<div>\n",
       "<style scoped>\n",
       "    .dataframe tbody tr th:only-of-type {\n",
       "        vertical-align: middle;\n",
       "    }\n",
       "\n",
       "    .dataframe tbody tr th {\n",
       "        vertical-align: top;\n",
       "    }\n",
       "\n",
       "    .dataframe thead th {\n",
       "        text-align: right;\n",
       "    }\n",
       "</style>\n",
       "<table border=\"1\" class=\"dataframe\">\n",
       "  <thead>\n",
       "    <tr style=\"text-align: right;\">\n",
       "      <th></th>\n",
       "      <th>ENSG</th>\n",
       "      <th>NCBI</th>\n",
       "      <th>HGNC</th>\n",
       "      <th>SAMPID</th>\n",
       "      <th>TPM</th>\n",
       "      <th>SMATSSCR</th>\n",
       "      <th>SMTS</th>\n",
       "      <th>SMTSD</th>\n",
       "      <th>SUBJID</th>\n",
       "      <th>SEX</th>\n",
       "      <th>AGE</th>\n",
       "      <th>DTHHRDY</th>\n",
       "    </tr>\n",
       "  </thead>\n",
       "  <tbody>\n",
       "    <tr>\n",
       "      <th>1</th>\n",
       "      <td>ENSG00000188786.9</td>\n",
       "      <td>4520</td>\n",
       "      <td>MTF1</td>\n",
       "      <td>GTEX-111CU-1826-SM-5GZYN</td>\n",
       "      <td>7.4750</td>\n",
       "      <td>0.0</td>\n",
       "      <td>Adipose Tissue</td>\n",
       "      <td>Adipose - Subcutaneous</td>\n",
       "      <td>GTEX-111CU</td>\n",
       "      <td>male</td>\n",
       "      <td>50-59</td>\n",
       "      <td>0.0</td>\n",
       "    </tr>\n",
       "    <tr>\n",
       "      <th>11689</th>\n",
       "      <td>ENSG00000007968.6</td>\n",
       "      <td>1870</td>\n",
       "      <td>E2F2</td>\n",
       "      <td>GTEX-111CU-1826-SM-5GZYN</td>\n",
       "      <td>0.5432</td>\n",
       "      <td>0.0</td>\n",
       "      <td>Adipose Tissue</td>\n",
       "      <td>Adipose - Subcutaneous</td>\n",
       "      <td>GTEX-111CU</td>\n",
       "      <td>male</td>\n",
       "      <td>50-59</td>\n",
       "      <td>0.0</td>\n",
       "    </tr>\n",
       "    <tr>\n",
       "      <th>23377</th>\n",
       "      <td>ENSG00000117318.8</td>\n",
       "      <td>3399</td>\n",
       "      <td>ID3</td>\n",
       "      <td>GTEX-111CU-1826-SM-5GZYN</td>\n",
       "      <td>232.1000</td>\n",
       "      <td>0.0</td>\n",
       "      <td>Adipose Tissue</td>\n",
       "      <td>Adipose - Subcutaneous</td>\n",
       "      <td>GTEX-111CU</td>\n",
       "      <td>male</td>\n",
       "      <td>50-59</td>\n",
       "      <td>0.0</td>\n",
       "    </tr>\n",
       "    <tr>\n",
       "      <th>35065</th>\n",
       "      <td>ENSG00000131910.4</td>\n",
       "      <td>8431</td>\n",
       "      <td>NR0B2</td>\n",
       "      <td>GTEX-111CU-1826-SM-5GZYN</td>\n",
       "      <td>0.0000</td>\n",
       "      <td>0.0</td>\n",
       "      <td>Adipose Tissue</td>\n",
       "      <td>Adipose - Subcutaneous</td>\n",
       "      <td>GTEX-111CU</td>\n",
       "      <td>male</td>\n",
       "      <td>50-59</td>\n",
       "      <td>0.0</td>\n",
       "    </tr>\n",
       "    <tr>\n",
       "      <th>46753</th>\n",
       "      <td>ENSG00000142619.4</td>\n",
       "      <td>51702</td>\n",
       "      <td>PADI3</td>\n",
       "      <td>GTEX-111CU-1826-SM-5GZYN</td>\n",
       "      <td>0.0000</td>\n",
       "      <td>0.0</td>\n",
       "      <td>Adipose Tissue</td>\n",
       "      <td>Adipose - Subcutaneous</td>\n",
       "      <td>GTEX-111CU</td>\n",
       "      <td>male</td>\n",
       "      <td>50-59</td>\n",
       "      <td>0.0</td>\n",
       "    </tr>\n",
       "  </tbody>\n",
       "</table>\n",
       "</div>"
      ],
      "text/plain": [
       "                    ENSG   NCBI   HGNC                    SAMPID       TPM  \\\n",
       "1      ENSG00000188786.9   4520   MTF1  GTEX-111CU-1826-SM-5GZYN    7.4750   \n",
       "11689  ENSG00000007968.6   1870   E2F2  GTEX-111CU-1826-SM-5GZYN    0.5432   \n",
       "23377  ENSG00000117318.8   3399    ID3  GTEX-111CU-1826-SM-5GZYN  232.1000   \n",
       "35065  ENSG00000131910.4   8431  NR0B2  GTEX-111CU-1826-SM-5GZYN    0.0000   \n",
       "46753  ENSG00000142619.4  51702  PADI3  GTEX-111CU-1826-SM-5GZYN    0.0000   \n",
       "\n",
       "       SMATSSCR            SMTS                   SMTSD      SUBJID   SEX  \\\n",
       "1           0.0  Adipose Tissue  Adipose - Subcutaneous  GTEX-111CU  male   \n",
       "11689       0.0  Adipose Tissue  Adipose - Subcutaneous  GTEX-111CU  male   \n",
       "23377       0.0  Adipose Tissue  Adipose - Subcutaneous  GTEX-111CU  male   \n",
       "35065       0.0  Adipose Tissue  Adipose - Subcutaneous  GTEX-111CU  male   \n",
       "46753       0.0  Adipose Tissue  Adipose - Subcutaneous  GTEX-111CU  male   \n",
       "\n",
       "         AGE  DTHHRDY  \n",
       "1      50-59      0.0  \n",
       "11689  50-59      0.0  \n",
       "23377  50-59      0.0  \n",
       "35065  50-59      0.0  \n",
       "46753  50-59      0.0  "
      ]
     },
     "execution_count": 60,
     "metadata": {},
     "output_type": "execute_result"
    }
   ],
   "source": [
    "rnaseq.head()"
   ]
  },
  {
   "cell_type": "markdown",
   "metadata": {
    "colab_type": "text",
    "id": "GNWwsSrNOAzX"
   },
   "source": [
    "\n",
    "\n",
    "```\n",
    "# This is formatted as code\n",
    "```\n",
    "\n",
    "### Remove data for gene-tissue pairs with all zero expression."
   ]
  },
  {
   "cell_type": "code",
   "execution_count": 61,
   "metadata": {
    "colab": {
     "autoexec": {
      "startup": false,
      "wait_interval": 0
     },
     "base_uri": "https://localhost:8080/",
     "height": 197
    },
    "colab_type": "code",
    "executionInfo": {
     "elapsed": 5876,
     "status": "ok",
     "timestamp": 1529946140272,
     "user": {
      "displayName": "Jeremy Yang",
      "photoUrl": "//lh4.googleusercontent.com/-oulNnl1aBlA/AAAAAAAAAAI/AAAAAAAAAm4/uOczRUUkS4g/s50-c-k-no/photo.jpg",
      "userId": "102807397641040966212"
     },
     "user_tz": 360
    },
    "id": "3kAiTBrD0jfz",
    "outputId": "0afe7c21-bc5b-4a5c-b284-69da60dbd841"
   },
   "outputs": [
    {
     "name": "stdout",
     "output_type": "stream",
     "text": [
      "False    5768\n",
      "True      667\n",
      "Name: max_tpm_0, dtype: int64\n"
     ]
    }
   ],
   "source": [
    "max_tpm_0 = (rnaseq[['ENSG', 'SMTSD', 'TPM']].groupby(by=['ENSG','SMTSD'], as_index=True).max() == 0).rename(columns={'TPM':'max_tpm_0'})\n",
    "print(max_tpm_0.max_tpm_0.value_counts())\n",
    "rnaseq = pandas.merge(rnaseq, max_tpm_0, left_on=['ENSG', 'SMTSD'], right_index=True)\n",
    "rnaseq = rnaseq[~rnaseq['max_tpm_0']]\n",
    "rnaseq.drop(columns=['max_tpm_0'], inplace=True)"
   ]
  },
  {
   "cell_type": "markdown",
   "metadata": {
    "colab_type": "text",
    "id": "Fo25DP6F5nSS"
   },
   "source": [
    "### Remove data for gene-tissue pairs not present in both sexes."
   ]
  },
  {
   "cell_type": "code",
   "execution_count": 62,
   "metadata": {
    "colab": {
     "autoexec": {
      "startup": false,
      "wait_interval": 0
     },
     "base_uri": "https://localhost:8080/",
     "height": 71
    },
    "colab_type": "code",
    "executionInfo": {
     "elapsed": 20498,
     "status": "ok",
     "timestamp": 1529946544522,
     "user": {
      "displayName": "Jeremy Yang",
      "photoUrl": "//lh4.googleusercontent.com/-oulNnl1aBlA/AAAAAAAAAAI/AAAAAAAAAm4/uOczRUUkS4g/s50-c-k-no/photo.jpg",
      "userId": "102807397641040966212"
     },
     "user_tz": 360
    },
    "id": "lP7meXxz4lAY",
    "outputId": "31650556-b60f-444e-f336-9616b2c73fae"
   },
   "outputs": [
    {
     "name": "stdout",
     "output_type": "stream",
     "text": [
      "2    4660\n",
      "1    1108\n",
      "Name: sex_count, dtype: int64\n"
     ]
    }
   ],
   "source": [
    "sex_count = (rnaseq[['ENSG', 'SMTSD', 'SEX']].groupby(by=['ENSG','SMTSD'], as_index=True).nunique()).rename(columns={'SEX':'sex_count'})\n",
    "print(sex_count.sex_count.value_counts())\n",
    "rnaseq = pandas.merge(rnaseq, sex_count, left_on=['ENSG', 'SMTSD'], right_index=True)\n",
    "rnaseq = rnaseq[rnaseq['sex_count'] == 2]\n",
    "rnaseq.drop(columns=['sex_count'], inplace=True)"
   ]
  },
  {
   "cell_type": "markdown",
   "metadata": {
    "colab_type": "text",
    "id": "7IBesjzyrRDL"
   },
   "source": [
    "### Compute median TPM by gene+tissue:"
   ]
  },
  {
   "cell_type": "code",
   "execution_count": 63,
   "metadata": {
    "colab": {
     "autoexec": {
      "startup": false,
      "wait_interval": 0
     },
     "base_uri": "https://localhost:8080/",
     "height": 222
    },
    "colab_type": "code",
    "executionInfo": {
     "elapsed": 1408,
     "status": "ok",
     "timestamp": 1529946551577,
     "user": {
      "displayName": "Jeremy Yang",
      "photoUrl": "//lh4.googleusercontent.com/-oulNnl1aBlA/AAAAAAAAAAI/AAAAAAAAAm4/uOczRUUkS4g/s50-c-k-no/photo.jpg",
      "userId": "102807397641040966212"
     },
     "user_tz": 360
    },
    "id": "RIifJ881rdNc",
    "outputId": "004ceb6e-6aab-4e19-c9b6-60620c06470e"
   },
   "outputs": [
    {
     "name": "stdout",
     "output_type": "stream",
     "text": [
      "Unique counts: genes: 165 ; tissues: 31 ; gene-tissue pairs: 4660\n"
     ]
    },
    {
     "data": {
      "text/html": [
       "<div>\n",
       "<style scoped>\n",
       "    .dataframe tbody tr th:only-of-type {\n",
       "        vertical-align: middle;\n",
       "    }\n",
       "\n",
       "    .dataframe tbody tr th {\n",
       "        vertical-align: top;\n",
       "    }\n",
       "\n",
       "    .dataframe thead th {\n",
       "        text-align: right;\n",
       "    }\n",
       "</style>\n",
       "<table border=\"1\" class=\"dataframe\">\n",
       "  <thead>\n",
       "    <tr style=\"text-align: right;\">\n",
       "      <th></th>\n",
       "      <th>ENSG</th>\n",
       "      <th>SMTSD</th>\n",
       "      <th>TPM</th>\n",
       "    </tr>\n",
       "  </thead>\n",
       "  <tbody>\n",
       "    <tr>\n",
       "      <th>0</th>\n",
       "      <td>ENSG00000007968.6</td>\n",
       "      <td>Adipose - Subcutaneous</td>\n",
       "      <td>0.32500</td>\n",
       "    </tr>\n",
       "    <tr>\n",
       "      <th>1</th>\n",
       "      <td>ENSG00000007968.6</td>\n",
       "      <td>Adipose - Visceral (Omentum)</td>\n",
       "      <td>0.26885</td>\n",
       "    </tr>\n",
       "    <tr>\n",
       "      <th>2</th>\n",
       "      <td>ENSG00000007968.6</td>\n",
       "      <td>Adrenal Gland</td>\n",
       "      <td>0.29090</td>\n",
       "    </tr>\n",
       "    <tr>\n",
       "      <th>3</th>\n",
       "      <td>ENSG00000007968.6</td>\n",
       "      <td>Artery - Aorta</td>\n",
       "      <td>0.16890</td>\n",
       "    </tr>\n",
       "    <tr>\n",
       "      <th>4</th>\n",
       "      <td>ENSG00000007968.6</td>\n",
       "      <td>Artery - Coronary</td>\n",
       "      <td>0.23755</td>\n",
       "    </tr>\n",
       "  </tbody>\n",
       "</table>\n",
       "</div>"
      ],
      "text/plain": [
       "                ENSG                         SMTSD      TPM\n",
       "0  ENSG00000007968.6        Adipose - Subcutaneous  0.32500\n",
       "1  ENSG00000007968.6  Adipose - Visceral (Omentum)  0.26885\n",
       "2  ENSG00000007968.6                 Adrenal Gland  0.29090\n",
       "3  ENSG00000007968.6                Artery - Aorta  0.16890\n",
       "4  ENSG00000007968.6             Artery - Coronary  0.23755"
      ]
     },
     "execution_count": 63,
     "metadata": {},
     "output_type": "execute_result"
    }
   ],
   "source": [
    "rnaseq_med = rnaseq[['ENSG', 'SMTSD', 'TPM']].groupby(by=['ENSG','SMTSD'], as_index=False).median()\n",
    "print(\"Unique counts: genes: %d ; tissues: %d ; gene-tissue pairs: %d\"%(rnaseq_med.ENSG.nunique(), rnaseq_med.SMTSD.nunique(), rnaseq_med.shape[0]))\n",
    "rnaseq_med.head()"
   ]
  },
  {
   "cell_type": "code",
   "execution_count": 64,
   "metadata": {
    "colab": {
     "autoexec": {
      "startup": false,
      "wait_interval": 0
     }
    },
    "colab_type": "code",
    "id": "__GC_6NC1C55"
   },
   "outputs": [],
   "source": [
    "rnaseq_med.to_csv('rnaseq_med.tsv', sep='\\t')\n",
    "iput(\"rnaseq_med.tsv\", out_dir_path + \"/rnaseq_med.tsv\" )"
   ]
  },
  {
   "cell_type": "code",
   "execution_count": 65,
   "metadata": {
    "colab": {
     "autoexec": {
      "startup": false,
      "wait_interval": 0
     },
     "base_uri": "https://localhost:8080/",
     "height": 179
    },
    "colab_type": "code",
    "executionInfo": {
     "elapsed": 372,
     "status": "ok",
     "timestamp": 1529946555652,
     "user": {
      "displayName": "Jeremy Yang",
      "photoUrl": "//lh4.googleusercontent.com/-oulNnl1aBlA/AAAAAAAAAAI/AAAAAAAAAm4/uOczRUUkS4g/s50-c-k-no/photo.jpg",
      "userId": "102807397641040966212"
     },
     "user_tz": 360
    },
    "id": "5lWkVXQW4Mkk",
    "outputId": "5c88a797-72c6-4c08-ec8d-976e5de85377"
   },
   "outputs": [
    {
     "data": {
      "text/plain": [
       "count    4660.000000\n",
       "mean       10.257201\n",
       "std        89.425113\n",
       "min         0.000000\n",
       "25%         0.000000\n",
       "50%         0.319650\n",
       "75%         5.397750\n",
       "max      5376.500000\n",
       "Name: TPM, dtype: float64"
      ]
     },
     "execution_count": 65,
     "metadata": {},
     "output_type": "execute_result"
    }
   ],
   "source": [
    "rnaseq_med.TPM.describe()"
   ]
  },
  {
   "cell_type": "markdown",
   "metadata": {
    "colab_type": "text",
    "id": "OIwpu3JXvv9D"
   },
   "source": [
    "### LOG10(TPM+1) useful transformation."
   ]
  },
  {
   "cell_type": "code",
   "execution_count": 66,
   "metadata": {
    "colab": {
     "autoexec": {
      "startup": false,
      "wait_interval": 0
     },
     "base_uri": "https://localhost:8080/",
     "height": 0
    },
    "colab_type": "code",
    "executionInfo": {
     "elapsed": 302,
     "status": "ok",
     "timestamp": 1529946558707,
     "user": {
      "displayName": "Jeremy Yang",
      "photoUrl": "//lh4.googleusercontent.com/-oulNnl1aBlA/AAAAAAAAAAI/AAAAAAAAAm4/uOczRUUkS4g/s50-c-k-no/photo.jpg",
      "userId": "102807397641040966212"
     },
     "user_tz": 360
    },
    "id": "Xiy-KUA6p811",
    "outputId": "91174967-3c5e-4893-f293-757467ce3cec"
   },
   "outputs": [],
   "source": [
    "rnaseq_med['LOG_TPM'] = rnaseq_med.TPM.apply(lambda x: numpy.log10(x+1))"
   ]
  },
  {
   "cell_type": "code",
   "execution_count": 67,
   "metadata": {
    "colab": {
     "autoexec": {
      "startup": false,
      "wait_interval": 0
     },
     "base_uri": "https://localhost:8080/",
     "height": 365
    },
    "colab_type": "code",
    "executionInfo": {
     "elapsed": 470,
     "status": "ok",
     "timestamp": 1529946560763,
     "user": {
      "displayName": "Jeremy Yang",
      "photoUrl": "//lh4.googleusercontent.com/-oulNnl1aBlA/AAAAAAAAAAI/AAAAAAAAAm4/uOczRUUkS4g/s50-c-k-no/photo.jpg",
      "userId": "102807397641040966212"
     },
     "user_tz": 360
    },
    "id": "4FNc-Y-k68GD",
    "outputId": "1b04d35c-e430-4a19-ac36-db9cedbcd5b1"
   },
   "outputs": [
    {
     "data": {
      "text/plain": [
       "<matplotlib.axes._subplots.AxesSubplot at 0x7fea7066dba8>"
      ]
     },
     "execution_count": 67,
     "metadata": {},
     "output_type": "execute_result"
    }
   ],
   "source": [
    "rnaseq_med.LOG_TPM.plot(kind='box')"
   ]
  },
  {
   "cell_type": "markdown",
   "metadata": {
    "colab_type": "text",
    "id": "fsVkfXPhw4Gy"
   },
   "source": [
    "### Compute tissue specificity index (Yanai et al., 2004).\n",
    "\n",
    "> ## $ \\tau = \\frac{\\sum_{i=0}^N (1 - x_i)}{N - 1} $\n",
    "\n",
    "> * N = number of tissues\n",
    "> * x = expression profile component normalized by the maximal component value\n",
    "\n",
    "Validate with example vector from paper.  Should be 0.95.\n",
    "\n"
   ]
  },
  {
   "cell_type": "code",
   "execution_count": 68,
   "metadata": {
    "colab": {
     "autoexec": {
      "startup": false,
      "wait_interval": 0
     },
     "base_uri": "https://localhost:8080/",
     "height": 35
    },
    "colab_type": "code",
    "executionInfo": {
     "elapsed": 292,
     "status": "ok",
     "timestamp": 1529946564005,
     "user": {
      "displayName": "Jeremy Yang",
      "photoUrl": "//lh4.googleusercontent.com/-oulNnl1aBlA/AAAAAAAAAAI/AAAAAAAAAm4/uOczRUUkS4g/s50-c-k-no/photo.jpg",
      "userId": "102807397641040966212"
     },
     "user_tz": 360
    },
    "id": "bHpiwd8qxBxS",
    "outputId": "83193202-fa7a-409a-acb2-01347aca1de5"
   },
   "outputs": [
    {
     "name": "stdout",
     "output_type": "stream",
     "text": [
      "0.95\n"
     ]
    }
   ],
   "source": [
    "def TAU(X):\n",
    "  N = len(X)\n",
    "  xmax = max(X)\n",
    "  if xmax==0: return(0.0)\n",
    "  tau = 0.0\n",
    "  for x in X:\n",
    "    tau += (1 - x/xmax)\n",
    "  tau /= (N - 1)\n",
    "  return(tau)\n",
    "print('%.2f'%TAU([0,8,0,0,0,2,0,2,0,0,0,0]))"
   ]
  },
  {
   "cell_type": "code",
   "execution_count": 69,
   "metadata": {
    "colab": {
     "autoexec": {
      "startup": false,
      "wait_interval": 0
     },
     "base_uri": "https://localhost:8080/",
     "height": 235
    },
    "colab_type": "code",
    "executionInfo": {
     "elapsed": 340,
     "status": "ok",
     "timestamp": 1529946567784,
     "user": {
      "displayName": "Jeremy Yang",
      "photoUrl": "//lh4.googleusercontent.com/-oulNnl1aBlA/AAAAAAAAAAI/AAAAAAAAAm4/uOczRUUkS4g/s50-c-k-no/photo.jpg",
      "userId": "102807397641040966212"
     },
     "user_tz": 360
    },
    "id": "XQN09AmIz4M1",
    "outputId": "781d76e2-7a87-45c9-fe85-152117cadfd3"
   },
   "outputs": [
    {
     "data": {
      "text/html": [
       "<div>\n",
       "<style scoped>\n",
       "    .dataframe tbody tr th:only-of-type {\n",
       "        vertical-align: middle;\n",
       "    }\n",
       "\n",
       "    .dataframe tbody tr th {\n",
       "        vertical-align: top;\n",
       "    }\n",
       "\n",
       "    .dataframe thead th {\n",
       "        text-align: right;\n",
       "    }\n",
       "</style>\n",
       "<table border=\"1\" class=\"dataframe\">\n",
       "  <thead>\n",
       "    <tr style=\"text-align: right;\">\n",
       "      <th></th>\n",
       "      <th>TAU</th>\n",
       "    </tr>\n",
       "    <tr>\n",
       "      <th>ENSG</th>\n",
       "      <th></th>\n",
       "    </tr>\n",
       "  </thead>\n",
       "  <tbody>\n",
       "    <tr>\n",
       "      <th>ENSG00000007968.6</th>\n",
       "      <td>0.907819</td>\n",
       "    </tr>\n",
       "    <tr>\n",
       "      <th>ENSG00000044012.3</th>\n",
       "      <td>0.979996</td>\n",
       "    </tr>\n",
       "    <tr>\n",
       "      <th>ENSG00000053372.4</th>\n",
       "      <td>0.328923</td>\n",
       "    </tr>\n",
       "    <tr>\n",
       "      <th>ENSG00000116273.5</th>\n",
       "      <td>0.555036</td>\n",
       "    </tr>\n",
       "    <tr>\n",
       "      <th>ENSG00000116721.9</th>\n",
       "      <td>1.000000</td>\n",
       "    </tr>\n",
       "  </tbody>\n",
       "</table>\n",
       "</div>"
      ],
      "text/plain": [
       "                        TAU\n",
       "ENSG                       \n",
       "ENSG00000007968.6  0.907819\n",
       "ENSG00000044012.3  0.979996\n",
       "ENSG00000053372.4  0.328923\n",
       "ENSG00000116273.5  0.555036\n",
       "ENSG00000116721.9  1.000000"
      ]
     },
     "execution_count": 69,
     "metadata": {},
     "output_type": "execute_result"
    }
   ],
   "source": [
    "rnaseq_tau = rnaseq_med.groupby(['ENSG']).TPM.agg(TAU)\n",
    "rnaseq_tau = pandas.DataFrame(rnaseq_tau).rename(columns={'TPM':'TAU'})\n",
    "rnaseq_tau.head()"
   ]
  },
  {
   "cell_type": "code",
   "execution_count": 70,
   "metadata": {
    "colab": {
     "autoexec": {
      "startup": false,
      "wait_interval": 0
     },
     "base_uri": "https://localhost:8080/",
     "height": 369
    },
    "colab_type": "code",
    "executionInfo": {
     "elapsed": 448,
     "status": "ok",
     "timestamp": 1529946571650,
     "user": {
      "displayName": "Jeremy Yang",
      "photoUrl": "//lh4.googleusercontent.com/-oulNnl1aBlA/AAAAAAAAAAI/AAAAAAAAAm4/uOczRUUkS4g/s50-c-k-no/photo.jpg",
      "userId": "102807397641040966212"
     },
     "user_tz": 360
    },
    "id": "O-CdHZaY-Y0L",
    "outputId": "5128b299-2d45-4e09-a7f2-71617d3737e9"
   },
   "outputs": [
    {
     "data": {
      "text/plain": [
       "<matplotlib.axes._subplots.AxesSubplot at 0x7fea6bb1bba8>"
      ]
     },
     "execution_count": 70,
     "metadata": {},
     "output_type": "execute_result"
    },
    {
     "data": {
      "image/png": "[encoded data removed]",
      "text/plain": [
       "<Figure size 432x288 with 1 Axes>"
      ]
     },
     "metadata": {},
     "output_type": "display_data"
    }
   ],
   "source": [
    "rnaseq_tau.plot(kind='hist')"
   ]
  },
  {
   "cell_type": "markdown",
   "metadata": {
    "colab_type": "text",
    "id": "UZhpN48Q2Qrg"
   },
   "source": [
    "### Assign gene-tissue rank (quantile of median) among tissues.\n",
    "Low-Med-High cutoff quantiles: .25 and .75.  These ranks measure, for a given gene, relative tissue expression from the gene-tissue TPMs."
   ]
  },
  {
   "cell_type": "code",
   "execution_count": 71,
   "metadata": {
    "colab": {
     "autoexec": {
      "startup": false,
      "wait_interval": 0
     },
     "base_uri": "https://localhost:8080/",
     "height": 0
    },
    "colab_type": "code",
    "executionInfo": {
     "elapsed": 364,
     "status": "ok",
     "timestamp": 1529949745903,
     "user": {
      "displayName": "Jeremy Yang",
      "photoUrl": "//lh4.googleusercontent.com/-oulNnl1aBlA/AAAAAAAAAAI/AAAAAAAAAm4/uOczRUUkS4g/s50-c-k-no/photo.jpg",
      "userId": "102807397641040966212"
     },
     "user_tz": 360
    },
    "id": "FT2DcDCK2zaM",
    "outputId": "7a248056-25e1-4e96-e8f2-7ddb7b6224fa"
   },
   "outputs": [],
   "source": [
    "def GTRanks(rnaseq, tpm_col):\n",
    "  tpm_rank = pandas.Series(dtype=\"float\", index=range(rnaseq.shape[0]))\n",
    "  for i in rnaseq.index:\n",
    "    ensg = rnaseq.ENSG[i]\n",
    "    val_this = rnaseq[tpm_col][i]\n",
    "    vals_ensg = rnaseq[tpm_col][rnaseq.ENSG==ensg]\n",
    "    vals_ensg = vals_ensg.sort_values().reset_index(drop=True)\n",
    "    j = vals_ensg[vals_ensg == val_this].index[0]\n",
    "    tpm_rank.iloc[i] = j/vals_ensg.size \n",
    "\n",
    "  rnaseq[tpm_col+'_RANK'] = tpm_rank\n",
    "  return(rnaseq)"
   ]
  },
  {
   "cell_type": "code",
   "execution_count": 72,
   "metadata": {
    "colab": {
     "autoexec": {
      "startup": false,
      "wait_interval": 0
     },
     "base_uri": "https://localhost:8080/",
     "height": 179
    },
    "colab_type": "code",
    "executionInfo": {
     "elapsed": 293,
     "status": "ok",
     "timestamp": 1529946577152,
     "user": {
      "displayName": "Jeremy Yang",
      "photoUrl": "//lh4.googleusercontent.com/-oulNnl1aBlA/AAAAAAAAAAI/AAAAAAAAAm4/uOczRUUkS4g/s50-c-k-no/photo.jpg",
      "userId": "102807397641040966212"
     },
     "user_tz": 360
    },
    "id": "rtkZFKiuNIgA",
    "outputId": "943a2ae6-9c54-4a2a-84d2-324d919135a3"
   },
   "outputs": [
    {
     "name": "stdout",
     "output_type": "stream",
     "text": [
      "<class 'pandas.core.frame.DataFrame'>\n",
      "Int64Index: 4660 entries, 0 to 4659\n",
      "Data columns (total 4 columns):\n",
      "ENSG       4660 non-null object\n",
      "SMTSD      4660 non-null object\n",
      "TPM        4660 non-null float64\n",
      "LOG_TPM    4660 non-null float64\n",
      "dtypes: float64(2), object(2)\n",
      "memory usage: 182.0+ KB\n"
     ]
    }
   ],
   "source": [
    "rnaseq_med.info()"
   ]
  },
  {
   "cell_type": "code",
   "execution_count": 73,
   "metadata": {
    "colab": {
     "autoexec": {
      "startup": false,
      "wait_interval": 0
     },
     "base_uri": "https://localhost:8080/",
     "height": 222
    },
    "colab_type": "code",
    "executionInfo": {
     "elapsed": 99212,
     "status": "ok",
     "timestamp": 1529949892056,
     "user": {
      "displayName": "Jeremy Yang",
      "photoUrl": "//lh4.googleusercontent.com/-oulNnl1aBlA/AAAAAAAAAAI/AAAAAAAAAm4/uOczRUUkS4g/s50-c-k-no/photo.jpg",
      "userId": "102807397641040966212"
     },
     "user_tz": 360
    },
    "id": "7EtulAR4z2Di",
    "outputId": "b839c7fb-bae4-490e-bf8d-ef7775cf4f18"
   },
   "outputs": [
    {
     "name": "stdout",
     "output_type": "stream",
     "text": [
      "Elapsed: 5s\n"
     ]
    },
    {
     "data": {
      "text/html": [
       "<div>\n",
       "<style scoped>\n",
       "    .dataframe tbody tr th:only-of-type {\n",
       "        vertical-align: middle;\n",
       "    }\n",
       "\n",
       "    .dataframe tbody tr th {\n",
       "        vertical-align: top;\n",
       "    }\n",
       "\n",
       "    .dataframe thead th {\n",
       "        text-align: right;\n",
       "    }\n",
       "</style>\n",
       "<table border=\"1\" class=\"dataframe\">\n",
       "  <thead>\n",
       "    <tr style=\"text-align: right;\">\n",
       "      <th></th>\n",
       "      <th>ENSG</th>\n",
       "      <th>SMTSD</th>\n",
       "      <th>TPM</th>\n",
       "      <th>LOG_TPM</th>\n",
       "      <th>TPM_RANK</th>\n",
       "    </tr>\n",
       "  </thead>\n",
       "  <tbody>\n",
       "    <tr>\n",
       "      <th>0</th>\n",
       "      <td>ENSG00000007968.6</td>\n",
       "      <td>Adipose - Subcutaneous</td>\n",
       "      <td>0.32500</td>\n",
       "      <td>0.122216</td>\n",
       "      <td>0.612903</td>\n",
       "    </tr>\n",
       "    <tr>\n",
       "      <th>1</th>\n",
       "      <td>ENSG00000007968.6</td>\n",
       "      <td>Adipose - Visceral (Omentum)</td>\n",
       "      <td>0.26885</td>\n",
       "      <td>0.103410</td>\n",
       "      <td>0.548387</td>\n",
       "    </tr>\n",
       "    <tr>\n",
       "      <th>2</th>\n",
       "      <td>ENSG00000007968.6</td>\n",
       "      <td>Adrenal Gland</td>\n",
       "      <td>0.29090</td>\n",
       "      <td>0.110893</td>\n",
       "      <td>0.580645</td>\n",
       "    </tr>\n",
       "    <tr>\n",
       "      <th>3</th>\n",
       "      <td>ENSG00000007968.6</td>\n",
       "      <td>Artery - Aorta</td>\n",
       "      <td>0.16890</td>\n",
       "      <td>0.067777</td>\n",
       "      <td>0.451613</td>\n",
       "    </tr>\n",
       "    <tr>\n",
       "      <th>4</th>\n",
       "      <td>ENSG00000007968.6</td>\n",
       "      <td>Artery - Coronary</td>\n",
       "      <td>0.23755</td>\n",
       "      <td>0.092563</td>\n",
       "      <td>0.483871</td>\n",
       "    </tr>\n",
       "  </tbody>\n",
       "</table>\n",
       "</div>"
      ],
      "text/plain": [
       "                ENSG                         SMTSD      TPM   LOG_TPM  \\\n",
       "0  ENSG00000007968.6        Adipose - Subcutaneous  0.32500  0.122216   \n",
       "1  ENSG00000007968.6  Adipose - Visceral (Omentum)  0.26885  0.103410   \n",
       "2  ENSG00000007968.6                 Adrenal Gland  0.29090  0.110893   \n",
       "3  ENSG00000007968.6                Artery - Aorta  0.16890  0.067777   \n",
       "4  ENSG00000007968.6             Artery - Coronary  0.23755  0.092563   \n",
       "\n",
       "   TPM_RANK  \n",
       "0  0.612903  \n",
       "1  0.548387  \n",
       "2  0.580645  \n",
       "3  0.451613  \n",
       "4  0.483871  "
      ]
     },
     "execution_count": 73,
     "metadata": {},
     "output_type": "execute_result"
    }
   ],
   "source": [
    "t0 = time.time()\n",
    "rnaseq_level = GTRanks(rnaseq_med.copy(), 'TPM')\n",
    "print(\"Elapsed: %ds\"%(time.time()-t0))\n",
    "rnaseq_level.head()"
   ]
  },
  {
   "cell_type": "code",
   "execution_count": 74,
   "metadata": {
    "colab": {
     "autoexec": {
      "startup": false,
      "wait_interval": 0
     },
     "base_uri": "https://localhost:8080/",
     "height": 365
    },
    "colab_type": "code",
    "executionInfo": {
     "elapsed": 648,
     "status": "ok",
     "timestamp": 1529957536950,
     "user": {
      "displayName": "Jeremy Yang",
      "photoUrl": "//lh4.googleusercontent.com/-oulNnl1aBlA/AAAAAAAAAAI/AAAAAAAAAm4/uOczRUUkS4g/s50-c-k-no/photo.jpg",
      "userId": "102807397641040966212"
     },
     "user_tz": 360
    },
    "id": "mBdoL0jWcc7p",
    "outputId": "a3ec0262-0015-4ae8-f0be-c74fa64bc8ef"
   },
   "outputs": [
    {
     "data": {
      "text/plain": [
       "<matplotlib.axes._subplots.AxesSubplot at 0x7fea6ba8cd68>"
      ]
     },
     "execution_count": 74,
     "metadata": {},
     "output_type": "execute_result"
    },
    {
     "data": {
      "image/png": "[encoded data removed]",
      "text/plain": [
       "<Figure size 432x288 with 1 Axes>"
      ]
     },
     "metadata": {},
     "output_type": "display_data"
    }
   ],
   "source": [
    "rnaseq_level.TPM_RANK.plot(kind='hist')"
   ]
  },
  {
   "cell_type": "code",
   "execution_count": 75,
   "metadata": {
    "colab": {
     "autoexec": {
      "startup": false,
      "wait_interval": 0
     },
     "base_uri": "https://localhost:8080/",
     "height": 297
    },
    "colab_type": "code",
    "executionInfo": {
     "elapsed": 484,
     "status": "ok",
     "timestamp": 1529957544500,
     "user": {
      "displayName": "Jeremy Yang",
      "photoUrl": "//lh4.googleusercontent.com/-oulNnl1aBlA/AAAAAAAAAAI/AAAAAAAAAm4/uOczRUUkS4g/s50-c-k-no/photo.jpg",
      "userId": "102807397641040966212"
     },
     "user_tz": 360
    },
    "id": "U0ro00ZPczBL",
    "outputId": "aeef513a-df18-4418-acf2-aed19877b569"
   },
   "outputs": [
    {
     "data": {
      "text/html": [
       "<div>\n",
       "<style scoped>\n",
       "    .dataframe tbody tr th:only-of-type {\n",
       "        vertical-align: middle;\n",
       "    }\n",
       "\n",
       "    .dataframe tbody tr th {\n",
       "        vertical-align: top;\n",
       "    }\n",
       "\n",
       "    .dataframe thead th {\n",
       "        text-align: right;\n",
       "    }\n",
       "</style>\n",
       "<table border=\"1\" class=\"dataframe\">\n",
       "  <thead>\n",
       "    <tr style=\"text-align: right;\">\n",
       "      <th></th>\n",
       "      <th>TPM</th>\n",
       "      <th>LOG_TPM</th>\n",
       "      <th>TPM_RANK</th>\n",
       "    </tr>\n",
       "  </thead>\n",
       "  <tbody>\n",
       "    <tr>\n",
       "      <th>count</th>\n",
       "      <td>4660.000000</td>\n",
       "      <td>4660.000000</td>\n",
       "      <td>4660.000000</td>\n",
       "    </tr>\n",
       "    <tr>\n",
       "      <th>mean</th>\n",
       "      <td>10.257201</td>\n",
       "      <td>0.429893</td>\n",
       "      <td>0.341766</td>\n",
       "    </tr>\n",
       "    <tr>\n",
       "      <th>std</th>\n",
       "      <td>89.425113</td>\n",
       "      <td>0.571479</td>\n",
       "      <td>0.336146</td>\n",
       "    </tr>\n",
       "    <tr>\n",
       "      <th>min</th>\n",
       "      <td>0.000000</td>\n",
       "      <td>0.000000</td>\n",
       "      <td>0.000000</td>\n",
       "    </tr>\n",
       "    <tr>\n",
       "      <th>25%</th>\n",
       "      <td>0.000000</td>\n",
       "      <td>0.000000</td>\n",
       "      <td>0.000000</td>\n",
       "    </tr>\n",
       "    <tr>\n",
       "      <th>50%</th>\n",
       "      <td>0.319650</td>\n",
       "      <td>0.120458</td>\n",
       "      <td>0.258065</td>\n",
       "    </tr>\n",
       "    <tr>\n",
       "      <th>75%</th>\n",
       "      <td>5.397750</td>\n",
       "      <td>0.806027</td>\n",
       "      <td>0.645161</td>\n",
       "    </tr>\n",
       "    <tr>\n",
       "      <th>max</th>\n",
       "      <td>5376.500000</td>\n",
       "      <td>3.730580</td>\n",
       "      <td>0.967742</td>\n",
       "    </tr>\n",
       "  </tbody>\n",
       "</table>\n",
       "</div>"
      ],
      "text/plain": [
       "               TPM      LOG_TPM     TPM_RANK\n",
       "count  4660.000000  4660.000000  4660.000000\n",
       "mean     10.257201     0.429893     0.341766\n",
       "std      89.425113     0.571479     0.336146\n",
       "min       0.000000     0.000000     0.000000\n",
       "25%       0.000000     0.000000     0.000000\n",
       "50%       0.319650     0.120458     0.258065\n",
       "75%       5.397750     0.806027     0.645161\n",
       "max    5376.500000     3.730580     0.967742"
      ]
     },
     "execution_count": 75,
     "metadata": {},
     "output_type": "execute_result"
    }
   ],
   "source": [
    "rnaseq_level.describe()"
   ]
  },
  {
   "cell_type": "code",
   "execution_count": 76,
   "metadata": {
    "colab": {
     "autoexec": {
      "startup": false,
      "wait_interval": 0
     }
    },
    "colab_type": "code",
    "id": "x4S5GCQDmJPb"
   },
   "outputs": [],
   "source": [
    "rnaseq_level.to_csv('rnaseq_level.tsv', sep='\\t')\n",
    "iput(\"rnaseq_level.tsv\", out_dir_path + \"/rnaseq_level.tsv\" )"
   ]
  },
  {
   "cell_type": "code",
   "execution_count": 77,
   "metadata": {
    "colab": {
     "autoexec": {
      "startup": false,
      "wait_interval": 0
     },
     "base_uri": "https://localhost:8080/",
     "height": 204
    },
    "colab_type": "code",
    "executionInfo": {
     "elapsed": 288,
     "status": "ok",
     "timestamp": 1529957557074,
     "user": {
      "displayName": "Jeremy Yang",
      "photoUrl": "//lh4.googleusercontent.com/-oulNnl1aBlA/AAAAAAAAAAI/AAAAAAAAAm4/uOczRUUkS4g/s50-c-k-no/photo.jpg",
      "userId": "102807397641040966212"
     },
     "user_tz": 360
    },
    "id": "PMGtTxqyZfoM",
    "outputId": "74993a27-6b4c-4e82-8ebe-605b4e74aee9"
   },
   "outputs": [
    {
     "data": {
      "text/html": [
       "<div>\n",
       "<style scoped>\n",
       "    .dataframe tbody tr th:only-of-type {\n",
       "        vertical-align: middle;\n",
       "    }\n",
       "\n",
       "    .dataframe tbody tr th {\n",
       "        vertical-align: top;\n",
       "    }\n",
       "\n",
       "    .dataframe thead th {\n",
       "        text-align: right;\n",
       "    }\n",
       "</style>\n",
       "<table border=\"1\" class=\"dataframe\">\n",
       "  <thead>\n",
       "    <tr style=\"text-align: right;\">\n",
       "      <th></th>\n",
       "      <th>ENSG</th>\n",
       "      <th>SMTSD</th>\n",
       "      <th>TPM</th>\n",
       "      <th>LOG_TPM</th>\n",
       "      <th>TPM_RANK</th>\n",
       "      <th>LEVEL</th>\n",
       "      <th>AGE</th>\n",
       "      <th>SEX</th>\n",
       "    </tr>\n",
       "  </thead>\n",
       "  <tbody>\n",
       "    <tr>\n",
       "      <th>0</th>\n",
       "      <td>ENSG00000007968.6</td>\n",
       "      <td>Adipose - Subcutaneous</td>\n",
       "      <td>0.32500</td>\n",
       "      <td>0.122216</td>\n",
       "      <td>0.612903</td>\n",
       "      <td>Medium</td>\n",
       "      <td>ALL</td>\n",
       "      <td>ALL</td>\n",
       "    </tr>\n",
       "    <tr>\n",
       "      <th>1</th>\n",
       "      <td>ENSG00000007968.6</td>\n",
       "      <td>Adipose - Visceral (Omentum)</td>\n",
       "      <td>0.26885</td>\n",
       "      <td>0.103410</td>\n",
       "      <td>0.548387</td>\n",
       "      <td>Medium</td>\n",
       "      <td>ALL</td>\n",
       "      <td>ALL</td>\n",
       "    </tr>\n",
       "    <tr>\n",
       "      <th>2</th>\n",
       "      <td>ENSG00000007968.6</td>\n",
       "      <td>Adrenal Gland</td>\n",
       "      <td>0.29090</td>\n",
       "      <td>0.110893</td>\n",
       "      <td>0.580645</td>\n",
       "      <td>Medium</td>\n",
       "      <td>ALL</td>\n",
       "      <td>ALL</td>\n",
       "    </tr>\n",
       "    <tr>\n",
       "      <th>3</th>\n",
       "      <td>ENSG00000007968.6</td>\n",
       "      <td>Artery - Aorta</td>\n",
       "      <td>0.16890</td>\n",
       "      <td>0.067777</td>\n",
       "      <td>0.451613</td>\n",
       "      <td>Medium</td>\n",
       "      <td>ALL</td>\n",
       "      <td>ALL</td>\n",
       "    </tr>\n",
       "    <tr>\n",
       "      <th>4</th>\n",
       "      <td>ENSG00000007968.6</td>\n",
       "      <td>Artery - Coronary</td>\n",
       "      <td>0.23755</td>\n",
       "      <td>0.092563</td>\n",
       "      <td>0.483871</td>\n",
       "      <td>Medium</td>\n",
       "      <td>ALL</td>\n",
       "      <td>ALL</td>\n",
       "    </tr>\n",
       "  </tbody>\n",
       "</table>\n",
       "</div>"
      ],
      "text/plain": [
       "                ENSG                         SMTSD      TPM   LOG_TPM  \\\n",
       "0  ENSG00000007968.6        Adipose - Subcutaneous  0.32500  0.122216   \n",
       "1  ENSG00000007968.6  Adipose - Visceral (Omentum)  0.26885  0.103410   \n",
       "2  ENSG00000007968.6                 Adrenal Gland  0.29090  0.110893   \n",
       "3  ENSG00000007968.6                Artery - Aorta  0.16890  0.067777   \n",
       "4  ENSG00000007968.6             Artery - Coronary  0.23755  0.092563   \n",
       "\n",
       "   TPM_RANK   LEVEL  AGE  SEX  \n",
       "0  0.612903  Medium  ALL  ALL  \n",
       "1  0.548387  Medium  ALL  ALL  \n",
       "2  0.580645  Medium  ALL  ALL  \n",
       "3  0.451613  Medium  ALL  ALL  \n",
       "4  0.483871  Medium  ALL  ALL  "
      ]
     },
     "execution_count": 77,
     "metadata": {},
     "output_type": "execute_result"
    }
   ],
   "source": [
    "rnaseq_level['LEVEL'] = rnaseq_level.TPM_RANK.apply(lambda x: 'Not detected' if x==0 else 'Low' if x<.25 else 'Medium' if x<.75 else 'High')\n",
    "rnaseq_level['AGE'] = 'ALL'\n",
    "rnaseq_level['SEX'] = 'ALL'\n",
    "rnaseq_level.head()"
   ]
  },
  {
   "cell_type": "code",
   "execution_count": 78,
   "metadata": {
    "colab": {
     "autoexec": {
      "startup": false,
      "wait_interval": 0
     },
     "base_uri": "https://localhost:8080/",
     "height": 107
    },
    "colab_type": "code",
    "executionInfo": {
     "elapsed": 332,
     "status": "ok",
     "timestamp": 1529957561777,
     "user": {
      "displayName": "Jeremy Yang",
      "photoUrl": "//lh4.googleusercontent.com/-oulNnl1aBlA/AAAAAAAAAAI/AAAAAAAAAm4/uOczRUUkS4g/s50-c-k-no/photo.jpg",
      "userId": "102807397641040966212"
     },
     "user_tz": 360
    },
    "id": "ZuwizN20dPOc",
    "outputId": "c1a0cd17-d7a0-4f04-a089-2dc55dd80992"
   },
   "outputs": [
    {
     "data": {
      "text/plain": [
       "High             793\n",
       "Low              633\n",
       "Medium          1614\n",
       "Not detected    1620\n",
       "Name: LEVEL, dtype: int64"
      ]
     },
     "execution_count": 78,
     "metadata": {},
     "output_type": "execute_result"
    }
   ],
   "source": [
    "rnaseq_level.LEVEL.value_counts().sort_index()"
   ]
  },
  {
   "cell_type": "markdown",
   "metadata": {
    "colab_type": "text",
    "id": "uYN-z_adiKwz"
   },
   "source": [
    "### Compute median TPM by gene+tissue+SEX:"
   ]
  },
  {
   "cell_type": "code",
   "execution_count": 79,
   "metadata": {
    "colab": {
     "autoexec": {
      "startup": false,
      "wait_interval": 0
     },
     "base_uri": "https://localhost:8080/",
     "height": 222
    },
    "colab_type": "code",
    "executionInfo": {
     "elapsed": 2081,
     "status": "ok",
     "timestamp": 1529957577229,
     "user": {
      "displayName": "Jeremy Yang",
      "photoUrl": "//lh4.googleusercontent.com/-oulNnl1aBlA/AAAAAAAAAAI/AAAAAAAAAm4/uOczRUUkS4g/s50-c-k-no/photo.jpg",
      "userId": "102807397641040966212"
     },
     "user_tz": 360
    },
    "id": "1d_9a09mpI3Q",
    "outputId": "979d966b-df8f-435a-c7e3-b9fc6e89b1ae"
   },
   "outputs": [
    {
     "name": "stdout",
     "output_type": "stream",
     "text": [
      "(9320, 4)\n"
     ]
    },
    {
     "data": {
      "text/html": [
       "<div>\n",
       "<style scoped>\n",
       "    .dataframe tbody tr th:only-of-type {\n",
       "        vertical-align: middle;\n",
       "    }\n",
       "\n",
       "    .dataframe tbody tr th {\n",
       "        vertical-align: top;\n",
       "    }\n",
       "\n",
       "    .dataframe thead th {\n",
       "        text-align: right;\n",
       "    }\n",
       "</style>\n",
       "<table border=\"1\" class=\"dataframe\">\n",
       "  <thead>\n",
       "    <tr style=\"text-align: right;\">\n",
       "      <th></th>\n",
       "      <th>ENSG</th>\n",
       "      <th>SMTSD</th>\n",
       "      <th>SEX</th>\n",
       "      <th>TPM</th>\n",
       "    </tr>\n",
       "  </thead>\n",
       "  <tbody>\n",
       "    <tr>\n",
       "      <th>0</th>\n",
       "      <td>ENSG00000007968.6</td>\n",
       "      <td>Adipose - Subcutaneous</td>\n",
       "      <td>female</td>\n",
       "      <td>0.2779</td>\n",
       "    </tr>\n",
       "    <tr>\n",
       "      <th>1</th>\n",
       "      <td>ENSG00000007968.6</td>\n",
       "      <td>Adipose - Subcutaneous</td>\n",
       "      <td>male</td>\n",
       "      <td>0.3466</td>\n",
       "    </tr>\n",
       "    <tr>\n",
       "      <th>2</th>\n",
       "      <td>ENSG00000007968.6</td>\n",
       "      <td>Adipose - Visceral (Omentum)</td>\n",
       "      <td>female</td>\n",
       "      <td>0.2347</td>\n",
       "    </tr>\n",
       "    <tr>\n",
       "      <th>3</th>\n",
       "      <td>ENSG00000007968.6</td>\n",
       "      <td>Adipose - Visceral (Omentum)</td>\n",
       "      <td>male</td>\n",
       "      <td>0.2769</td>\n",
       "    </tr>\n",
       "    <tr>\n",
       "      <th>4</th>\n",
       "      <td>ENSG00000007968.6</td>\n",
       "      <td>Adrenal Gland</td>\n",
       "      <td>female</td>\n",
       "      <td>0.2696</td>\n",
       "    </tr>\n",
       "  </tbody>\n",
       "</table>\n",
       "</div>"
      ],
      "text/plain": [
       "                ENSG                         SMTSD     SEX     TPM\n",
       "0  ENSG00000007968.6        Adipose - Subcutaneous  female  0.2779\n",
       "1  ENSG00000007968.6        Adipose - Subcutaneous    male  0.3466\n",
       "2  ENSG00000007968.6  Adipose - Visceral (Omentum)  female  0.2347\n",
       "3  ENSG00000007968.6  Adipose - Visceral (Omentum)    male  0.2769\n",
       "4  ENSG00000007968.6                 Adrenal Gland  female  0.2696"
      ]
     },
     "execution_count": 79,
     "metadata": {},
     "output_type": "execute_result"
    }
   ],
   "source": [
    "rnaseq_med_sex = rnaseq[['ENSG', 'SMTSD', 'SEX', 'TPM']].groupby(by=['ENSG','SMTSD','SEX'], as_index=False).median()\n",
    "print(rnaseq_med_sex.shape)\n",
    "rnaseq_med_sex.head()"
   ]
  },
  {
   "cell_type": "markdown",
   "metadata": {
    "colab_type": "text",
    "id": "4UuYZjZcrUU5"
   },
   "source": [
    "### Combine rows into one row per gene+tissue, cols for M and F TPM."
   ]
  },
  {
   "cell_type": "code",
   "execution_count": 80,
   "metadata": {
    "colab": {
     "autoexec": {
      "startup": false,
      "wait_interval": 0
     },
     "base_uri": "https://localhost:8080/",
     "height": 204
    },
    "colab_type": "code",
    "executionInfo": {
     "elapsed": 293,
     "status": "ok",
     "timestamp": 1529957590411,
     "user": {
      "displayName": "Jeremy Yang",
      "photoUrl": "//lh4.googleusercontent.com/-oulNnl1aBlA/AAAAAAAAAAI/AAAAAAAAAm4/uOczRUUkS4g/s50-c-k-no/photo.jpg",
      "userId": "102807397641040966212"
     },
     "user_tz": 360
    },
    "id": "W_huvO_NrbTl",
    "outputId": "7ac7024c-cb12-43a9-ed1c-d50aae761cc2"
   },
   "outputs": [
    {
     "data": {
      "text/html": [
       "<div>\n",
       "<style scoped>\n",
       "    .dataframe tbody tr th:only-of-type {\n",
       "        vertical-align: middle;\n",
       "    }\n",
       "\n",
       "    .dataframe tbody tr th {\n",
       "        vertical-align: top;\n",
       "    }\n",
       "\n",
       "    .dataframe thead th {\n",
       "        text-align: right;\n",
       "    }\n",
       "</style>\n",
       "<table border=\"1\" class=\"dataframe\">\n",
       "  <thead>\n",
       "    <tr style=\"text-align: right;\">\n",
       "      <th></th>\n",
       "      <th>ENSG</th>\n",
       "      <th>SMTSD</th>\n",
       "      <th>TPM_F</th>\n",
       "      <th>TPM_M</th>\n",
       "    </tr>\n",
       "  </thead>\n",
       "  <tbody>\n",
       "    <tr>\n",
       "      <th>0</th>\n",
       "      <td>ENSG00000007968.6</td>\n",
       "      <td>Adipose - Subcutaneous</td>\n",
       "      <td>0.2779</td>\n",
       "      <td>0.3466</td>\n",
       "    </tr>\n",
       "    <tr>\n",
       "      <th>1</th>\n",
       "      <td>ENSG00000007968.6</td>\n",
       "      <td>Adipose - Visceral (Omentum)</td>\n",
       "      <td>0.2347</td>\n",
       "      <td>0.2769</td>\n",
       "    </tr>\n",
       "    <tr>\n",
       "      <th>2</th>\n",
       "      <td>ENSG00000007968.6</td>\n",
       "      <td>Adrenal Gland</td>\n",
       "      <td>0.2696</td>\n",
       "      <td>0.2955</td>\n",
       "    </tr>\n",
       "    <tr>\n",
       "      <th>3</th>\n",
       "      <td>ENSG00000007968.6</td>\n",
       "      <td>Artery - Aorta</td>\n",
       "      <td>0.1870</td>\n",
       "      <td>0.1614</td>\n",
       "    </tr>\n",
       "    <tr>\n",
       "      <th>4</th>\n",
       "      <td>ENSG00000007968.6</td>\n",
       "      <td>Artery - Coronary</td>\n",
       "      <td>0.2306</td>\n",
       "      <td>0.2403</td>\n",
       "    </tr>\n",
       "  </tbody>\n",
       "</table>\n",
       "</div>"
      ],
      "text/plain": [
       "                ENSG                         SMTSD   TPM_F   TPM_M\n",
       "0  ENSG00000007968.6        Adipose - Subcutaneous  0.2779  0.3466\n",
       "1  ENSG00000007968.6  Adipose - Visceral (Omentum)  0.2347  0.2769\n",
       "2  ENSG00000007968.6                 Adrenal Gland  0.2696  0.2955\n",
       "3  ENSG00000007968.6                Artery - Aorta  0.1870  0.1614\n",
       "4  ENSG00000007968.6             Artery - Coronary  0.2306  0.2403"
      ]
     },
     "execution_count": 80,
     "metadata": {},
     "output_type": "execute_result"
    }
   ],
   "source": [
    "rnaseq_med_sex_f = rnaseq_med_sex.loc[rnaseq_med_sex['SEX'] == 'female']\n",
    "rnaseq_med_sex_f = rnaseq_med_sex_f[['ENSG', 'SMTSD', 'TPM']].rename(columns={'TPM':'TPM_F'})\n",
    "rnaseq_med_sex_m = rnaseq_med_sex.loc[rnaseq_med_sex['SEX'] == 'male']\n",
    "rnaseq_med_sex_m = rnaseq_med_sex_m[['ENSG', 'SMTSD', 'TPM']].rename(columns={'TPM':'TPM_M'})\n",
    "rnaseq_med_sex = pandas.merge(rnaseq_med_sex_f, rnaseq_med_sex_m, how='inner', on=['ENSG','SMTSD'])\n",
    "rnaseq_med_sex.head()"
   ]
  },
  {
   "cell_type": "code",
   "execution_count": 81,
   "metadata": {
    "colab": {
     "autoexec": {
      "startup": false,
      "wait_interval": 0
     },
     "base_uri": "https://localhost:8080/",
     "height": 222
    },
    "colab_type": "code",
    "executionInfo": {
     "elapsed": 100255,
     "status": "ok",
     "timestamp": 1529957696724,
     "user": {
      "displayName": "Jeremy Yang",
      "photoUrl": "//lh4.googleusercontent.com/-oulNnl1aBlA/AAAAAAAAAAI/AAAAAAAAAm4/uOczRUUkS4g/s50-c-k-no/photo.jpg",
      "userId": "102807397641040966212"
     },
     "user_tz": 360
    },
    "id": "UNujtYxQtu3o",
    "outputId": "c5d6ac6c-1af6-4ac5-83d4-5f5f8018e233"
   },
   "outputs": [
    {
     "name": "stdout",
     "output_type": "stream",
     "text": [
      "Elapsed: 5s\n"
     ]
    },
    {
     "data": {
      "text/html": [
       "<div>\n",
       "<style scoped>\n",
       "    .dataframe tbody tr th:only-of-type {\n",
       "        vertical-align: middle;\n",
       "    }\n",
       "\n",
       "    .dataframe tbody tr th {\n",
       "        vertical-align: top;\n",
       "    }\n",
       "\n",
       "    .dataframe thead th {\n",
       "        text-align: right;\n",
       "    }\n",
       "</style>\n",
       "<table border=\"1\" class=\"dataframe\">\n",
       "  <thead>\n",
       "    <tr style=\"text-align: right;\">\n",
       "      <th></th>\n",
       "      <th>ENSG</th>\n",
       "      <th>SMTSD</th>\n",
       "      <th>TPM_F</th>\n",
       "      <th>TPM_F_RANK</th>\n",
       "      <th>LEVEL_F</th>\n",
       "    </tr>\n",
       "  </thead>\n",
       "  <tbody>\n",
       "    <tr>\n",
       "      <th>0</th>\n",
       "      <td>ENSG00000007968.6</td>\n",
       "      <td>Adipose - Subcutaneous</td>\n",
       "      <td>0.2779</td>\n",
       "      <td>0.580645</td>\n",
       "      <td>Medium</td>\n",
       "    </tr>\n",
       "    <tr>\n",
       "      <th>1</th>\n",
       "      <td>ENSG00000007968.6</td>\n",
       "      <td>Adipose - Visceral (Omentum)</td>\n",
       "      <td>0.2347</td>\n",
       "      <td>0.516129</td>\n",
       "      <td>Medium</td>\n",
       "    </tr>\n",
       "    <tr>\n",
       "      <th>2</th>\n",
       "      <td>ENSG00000007968.6</td>\n",
       "      <td>Adrenal Gland</td>\n",
       "      <td>0.2696</td>\n",
       "      <td>0.548387</td>\n",
       "      <td>Medium</td>\n",
       "    </tr>\n",
       "    <tr>\n",
       "      <th>3</th>\n",
       "      <td>ENSG00000007968.6</td>\n",
       "      <td>Artery - Aorta</td>\n",
       "      <td>0.1870</td>\n",
       "      <td>0.419355</td>\n",
       "      <td>Medium</td>\n",
       "    </tr>\n",
       "    <tr>\n",
       "      <th>4</th>\n",
       "      <td>ENSG00000007968.6</td>\n",
       "      <td>Artery - Coronary</td>\n",
       "      <td>0.2306</td>\n",
       "      <td>0.483871</td>\n",
       "      <td>Medium</td>\n",
       "    </tr>\n",
       "  </tbody>\n",
       "</table>\n",
       "</div>"
      ],
      "text/plain": [
       "                ENSG                         SMTSD   TPM_F  TPM_F_RANK LEVEL_F\n",
       "0  ENSG00000007968.6        Adipose - Subcutaneous  0.2779    0.580645  Medium\n",
       "1  ENSG00000007968.6  Adipose - Visceral (Omentum)  0.2347    0.516129  Medium\n",
       "2  ENSG00000007968.6                 Adrenal Gland  0.2696    0.548387  Medium\n",
       "3  ENSG00000007968.6                Artery - Aorta  0.1870    0.419355  Medium\n",
       "4  ENSG00000007968.6             Artery - Coronary  0.2306    0.483871  Medium"
      ]
     },
     "execution_count": 81,
     "metadata": {},
     "output_type": "execute_result"
    }
   ],
   "source": [
    "t0 = time.time()\n",
    "rnaseq_level_f = GTRanks(rnaseq_med_sex[['ENSG','SMTSD','TPM_F']].copy(), 'TPM_F')\n",
    "print(\"Elapsed: %ds\"%(time.time()-t0))\n",
    "rnaseq_level_f['LEVEL_F'] = rnaseq_level_f.TPM_F_RANK.apply(lambda x: 'Not detected' if x==0 else 'Low' if x<.25 else 'Medium' if x<.75 else 'High')\n",
    "rnaseq_level_f.head()"
   ]
  },
  {
   "cell_type": "code",
   "execution_count": 82,
   "metadata": {
    "colab": {
     "autoexec": {
      "startup": false,
      "wait_interval": 0
     },
     "base_uri": "https://localhost:8080/",
     "height": 222
    },
    "colab_type": "code",
    "executionInfo": {
     "elapsed": 100487,
     "status": "ok",
     "timestamp": 1529957805604,
     "user": {
      "displayName": "Jeremy Yang",
      "photoUrl": "//lh4.googleusercontent.com/-oulNnl1aBlA/AAAAAAAAAAI/AAAAAAAAAm4/uOczRUUkS4g/s50-c-k-no/photo.jpg",
      "userId": "102807397641040966212"
     },
     "user_tz": 360
    },
    "id": "oTZA7hKiKwAQ",
    "outputId": "07321b97-cbe3-4b5d-9862-e98b059682fc"
   },
   "outputs": [
    {
     "name": "stdout",
     "output_type": "stream",
     "text": [
      "Elapsed: 5s\n"
     ]
    },
    {
     "data": {
      "text/html": [
       "<div>\n",
       "<style scoped>\n",
       "    .dataframe tbody tr th:only-of-type {\n",
       "        vertical-align: middle;\n",
       "    }\n",
       "\n",
       "    .dataframe tbody tr th {\n",
       "        vertical-align: top;\n",
       "    }\n",
       "\n",
       "    .dataframe thead th {\n",
       "        text-align: right;\n",
       "    }\n",
       "</style>\n",
       "<table border=\"1\" class=\"dataframe\">\n",
       "  <thead>\n",
       "    <tr style=\"text-align: right;\">\n",
       "      <th></th>\n",
       "      <th>ENSG</th>\n",
       "      <th>SMTSD</th>\n",
       "      <th>TPM_M</th>\n",
       "      <th>TPM_M_RANK</th>\n",
       "      <th>LEVEL_M</th>\n",
       "    </tr>\n",
       "  </thead>\n",
       "  <tbody>\n",
       "    <tr>\n",
       "      <th>0</th>\n",
       "      <td>ENSG00000007968.6</td>\n",
       "      <td>Adipose - Subcutaneous</td>\n",
       "      <td>0.3466</td>\n",
       "      <td>0.612903</td>\n",
       "      <td>Medium</td>\n",
       "    </tr>\n",
       "    <tr>\n",
       "      <th>1</th>\n",
       "      <td>ENSG00000007968.6</td>\n",
       "      <td>Adipose - Visceral (Omentum)</td>\n",
       "      <td>0.2769</td>\n",
       "      <td>0.548387</td>\n",
       "      <td>Medium</td>\n",
       "    </tr>\n",
       "    <tr>\n",
       "      <th>2</th>\n",
       "      <td>ENSG00000007968.6</td>\n",
       "      <td>Adrenal Gland</td>\n",
       "      <td>0.2955</td>\n",
       "      <td>0.580645</td>\n",
       "      <td>Medium</td>\n",
       "    </tr>\n",
       "    <tr>\n",
       "      <th>3</th>\n",
       "      <td>ENSG00000007968.6</td>\n",
       "      <td>Artery - Aorta</td>\n",
       "      <td>0.1614</td>\n",
       "      <td>0.419355</td>\n",
       "      <td>Medium</td>\n",
       "    </tr>\n",
       "    <tr>\n",
       "      <th>4</th>\n",
       "      <td>ENSG00000007968.6</td>\n",
       "      <td>Artery - Coronary</td>\n",
       "      <td>0.2403</td>\n",
       "      <td>0.516129</td>\n",
       "      <td>Medium</td>\n",
       "    </tr>\n",
       "  </tbody>\n",
       "</table>\n",
       "</div>"
      ],
      "text/plain": [
       "                ENSG                         SMTSD   TPM_M  TPM_M_RANK LEVEL_M\n",
       "0  ENSG00000007968.6        Adipose - Subcutaneous  0.3466    0.612903  Medium\n",
       "1  ENSG00000007968.6  Adipose - Visceral (Omentum)  0.2769    0.548387  Medium\n",
       "2  ENSG00000007968.6                 Adrenal Gland  0.2955    0.580645  Medium\n",
       "3  ENSG00000007968.6                Artery - Aorta  0.1614    0.419355  Medium\n",
       "4  ENSG00000007968.6             Artery - Coronary  0.2403    0.516129  Medium"
      ]
     },
     "execution_count": 82,
     "metadata": {},
     "output_type": "execute_result"
    }
   ],
   "source": [
    "t0 = time.time()\n",
    "rnaseq_level_m = GTRanks(rnaseq_med_sex[['ENSG','SMTSD','TPM_M']].copy(), 'TPM_M')\n",
    "print(\"Elapsed: %ds\"%(time.time()-t0))\n",
    "rnaseq_level_m['LEVEL_M'] = rnaseq_level_m.TPM_M_RANK.apply(lambda x: 'Not detected' if x==0 else 'Low' if x<.25 else 'Medium' if x<.75 else 'High')\n",
    "rnaseq_level_m.head()"
   ]
  },
  {
   "cell_type": "code",
   "execution_count": 83,
   "metadata": {
    "colab": {
     "autoexec": {
      "startup": false,
      "wait_interval": 0
     },
     "base_uri": "https://localhost:8080/",
     "height": 204
    },
    "colab_type": "code",
    "executionInfo": {
     "elapsed": 311,
     "status": "ok",
     "timestamp": 1529958084250,
     "user": {
      "displayName": "Jeremy Yang",
      "photoUrl": "//lh4.googleusercontent.com/-oulNnl1aBlA/AAAAAAAAAAI/AAAAAAAAAm4/uOczRUUkS4g/s50-c-k-no/photo.jpg",
      "userId": "102807397641040966212"
     },
     "user_tz": 360
    },
    "id": "dVrKuPwOipdx",
    "outputId": "17511604-443a-4b11-a4e7-ed28764e48e3"
   },
   "outputs": [
    {
     "data": {
      "text/html": [
       "<div>\n",
       "<style scoped>\n",
       "    .dataframe tbody tr th:only-of-type {\n",
       "        vertical-align: middle;\n",
       "    }\n",
       "\n",
       "    .dataframe tbody tr th {\n",
       "        vertical-align: top;\n",
       "    }\n",
       "\n",
       "    .dataframe thead th {\n",
       "        text-align: right;\n",
       "    }\n",
       "</style>\n",
       "<table border=\"1\" class=\"dataframe\">\n",
       "  <thead>\n",
       "    <tr style=\"text-align: right;\">\n",
       "      <th></th>\n",
       "      <th>ENSG</th>\n",
       "      <th>SMTSD</th>\n",
       "      <th>TPM_F</th>\n",
       "      <th>TPM_F_RANK</th>\n",
       "      <th>LEVEL_F</th>\n",
       "      <th>TPM_M</th>\n",
       "      <th>TPM_M_RANK</th>\n",
       "      <th>LEVEL_M</th>\n",
       "    </tr>\n",
       "  </thead>\n",
       "  <tbody>\n",
       "    <tr>\n",
       "      <th>0</th>\n",
       "      <td>ENSG00000007968.6</td>\n",
       "      <td>Adipose - Subcutaneous</td>\n",
       "      <td>0.2779</td>\n",
       "      <td>0.580645</td>\n",
       "      <td>Medium</td>\n",
       "      <td>0.3466</td>\n",
       "      <td>0.612903</td>\n",
       "      <td>Medium</td>\n",
       "    </tr>\n",
       "    <tr>\n",
       "      <th>1</th>\n",
       "      <td>ENSG00000007968.6</td>\n",
       "      <td>Adipose - Visceral (Omentum)</td>\n",
       "      <td>0.2347</td>\n",
       "      <td>0.516129</td>\n",
       "      <td>Medium</td>\n",
       "      <td>0.2769</td>\n",
       "      <td>0.548387</td>\n",
       "      <td>Medium</td>\n",
       "    </tr>\n",
       "    <tr>\n",
       "      <th>2</th>\n",
       "      <td>ENSG00000007968.6</td>\n",
       "      <td>Adrenal Gland</td>\n",
       "      <td>0.2696</td>\n",
       "      <td>0.548387</td>\n",
       "      <td>Medium</td>\n",
       "      <td>0.2955</td>\n",
       "      <td>0.580645</td>\n",
       "      <td>Medium</td>\n",
       "    </tr>\n",
       "    <tr>\n",
       "      <th>3</th>\n",
       "      <td>ENSG00000007968.6</td>\n",
       "      <td>Artery - Aorta</td>\n",
       "      <td>0.1870</td>\n",
       "      <td>0.419355</td>\n",
       "      <td>Medium</td>\n",
       "      <td>0.1614</td>\n",
       "      <td>0.419355</td>\n",
       "      <td>Medium</td>\n",
       "    </tr>\n",
       "    <tr>\n",
       "      <th>4</th>\n",
       "      <td>ENSG00000007968.6</td>\n",
       "      <td>Artery - Coronary</td>\n",
       "      <td>0.2306</td>\n",
       "      <td>0.483871</td>\n",
       "      <td>Medium</td>\n",
       "      <td>0.2403</td>\n",
       "      <td>0.516129</td>\n",
       "      <td>Medium</td>\n",
       "    </tr>\n",
       "  </tbody>\n",
       "</table>\n",
       "</div>"
      ],
      "text/plain": [
       "                ENSG                         SMTSD   TPM_F  TPM_F_RANK  \\\n",
       "0  ENSG00000007968.6        Adipose - Subcutaneous  0.2779    0.580645   \n",
       "1  ENSG00000007968.6  Adipose - Visceral (Omentum)  0.2347    0.516129   \n",
       "2  ENSG00000007968.6                 Adrenal Gland  0.2696    0.548387   \n",
       "3  ENSG00000007968.6                Artery - Aorta  0.1870    0.419355   \n",
       "4  ENSG00000007968.6             Artery - Coronary  0.2306    0.483871   \n",
       "\n",
       "  LEVEL_F   TPM_M  TPM_M_RANK LEVEL_M  \n",
       "0  Medium  0.3466    0.612903  Medium  \n",
       "1  Medium  0.2769    0.548387  Medium  \n",
       "2  Medium  0.2955    0.580645  Medium  \n",
       "3  Medium  0.1614    0.419355  Medium  \n",
       "4  Medium  0.2403    0.516129  Medium  "
      ]
     },
     "execution_count": 83,
     "metadata": {},
     "output_type": "execute_result"
    }
   ],
   "source": [
    "rnaseq_level = pandas.merge(rnaseq_level_f, rnaseq_level_m, on = ['ENSG','SMTSD'], how = 'inner')\n",
    "rnaseq_level.head()"
   ]
  },
  {
   "cell_type": "markdown",
   "metadata": {
    "colab_type": "text",
    "id": "8Th6MzQ6yndd"
   },
   "source": [
    "### For each gene, compute sex difference via Wilcox test:\n",
    "(Wilcoxon signed-rank test, with Wilcox treatment, discarding all zero-differences.)"
   ]
  },
  {
   "cell_type": "code",
   "execution_count": 84,
   "metadata": {
    "colab": {
     "autoexec": {
      "startup": false,
      "wait_interval": 0
     },
     "base_uri": "https://localhost:8080/",
     "height": 296
    },
    "colab_type": "code",
    "executionInfo": {
     "elapsed": 7285,
     "status": "ok",
     "timestamp": 1529958094417,
     "user": {
      "displayName": "Jeremy Yang",
      "photoUrl": "//lh4.googleusercontent.com/-oulNnl1aBlA/AAAAAAAAAAI/AAAAAAAAAm4/uOczRUUkS4g/s50-c-k-no/photo.jpg",
      "userId": "102807397641040966212"
     },
     "user_tz": 360
    },
    "id": "6HNxmpqWk_Sf",
    "outputId": "4219b003-69a9-4b45-f511-7397c7a53309"
   },
   "outputs": [
    {
     "name": "stderr",
     "output_type": "stream",
     "text": [
      "/usr/local/lib/python3.5/dist-packages/scipy/stats/morestats.py:2388: UserWarning: Warning: sample size too small for normal approximation.\n",
      "  warnings.warn(\"Warning: sample size too small for normal approximation.\")\n",
      "/usr/local/lib/python3.5/dist-packages/scipy/stats/morestats.py:2413: RuntimeWarning: invalid value encountered in double_scalars\n",
      "  z = (T - mn - correction) / se\n"
     ]
    },
    {
     "data": {
      "text/html": [
       "<div>\n",
       "<style scoped>\n",
       "    .dataframe tbody tr th:only-of-type {\n",
       "        vertical-align: middle;\n",
       "    }\n",
       "\n",
       "    .dataframe tbody tr th {\n",
       "        vertical-align: top;\n",
       "    }\n",
       "\n",
       "    .dataframe thead th {\n",
       "        text-align: right;\n",
       "    }\n",
       "</style>\n",
       "<table border=\"1\" class=\"dataframe\">\n",
       "  <thead>\n",
       "    <tr style=\"text-align: right;\">\n",
       "      <th></th>\n",
       "      <th>ENSG</th>\n",
       "      <th>pval</th>\n",
       "      <th>stat</th>\n",
       "    </tr>\n",
       "  </thead>\n",
       "  <tbody>\n",
       "    <tr>\n",
       "      <th>0</th>\n",
       "      <td>ENSG00000007968.6</td>\n",
       "      <td>0.968736</td>\n",
       "      <td>246</td>\n",
       "    </tr>\n",
       "    <tr>\n",
       "      <th>1</th>\n",
       "      <td>ENSG00000044012.3</td>\n",
       "      <td>0.575062</td>\n",
       "      <td>22</td>\n",
       "    </tr>\n",
       "    <tr>\n",
       "      <th>2</th>\n",
       "      <td>ENSG00000053372.4</td>\n",
       "      <td>0.0745398</td>\n",
       "      <td>157</td>\n",
       "    </tr>\n",
       "    <tr>\n",
       "      <th>3</th>\n",
       "      <td>ENSG00000116273.5</td>\n",
       "      <td>0.0882132</td>\n",
       "      <td>161</td>\n",
       "    </tr>\n",
       "    <tr>\n",
       "      <th>4</th>\n",
       "      <td>ENSG00000116721.9</td>\n",
       "      <td>0.179712</td>\n",
       "      <td>0</td>\n",
       "    </tr>\n",
       "  </tbody>\n",
       "</table>\n",
       "</div>"
      ],
      "text/plain": [
       "                ENSG       pval stat\n",
       "0  ENSG00000007968.6   0.968736  246\n",
       "1  ENSG00000044012.3   0.575062   22\n",
       "2  ENSG00000053372.4  0.0745398  157\n",
       "3  ENSG00000116273.5  0.0882132  161\n",
       "4  ENSG00000116721.9   0.179712    0"
      ]
     },
     "execution_count": 84,
     "metadata": {},
     "output_type": "execute_result"
    }
   ],
   "source": [
    "from scipy import stats\n",
    "wilcox = pandas.DataFrame({'ENSG':rnaseq_med_sex.ENSG.drop_duplicates().sort_values(), 'stat':None, 'pval':None}).reset_index(drop=True)\n",
    "\n",
    "for i in range(wilcox.shape[0]):\n",
    "  tpm_f_this = rnaseq_med_sex.TPM_F[rnaseq_level.ENSG == wilcox.ENSG[i]]\n",
    "  tpm_m_this = rnaseq_med_sex.TPM_M[rnaseq_level.ENSG == wilcox.ENSG[i]]\n",
    "  stat, pval = stats.wilcoxon(x=tpm_f_this, y=tpm_m_this, zero_method='wilcox')\n",
    "  wilcox.stat.iloc[i] = stat\n",
    "  wilcox.pval.iloc[i] = pval \n",
    "wilcox.head()"
   ]
  },
  {
   "cell_type": "markdown",
   "metadata": {
    "colab_type": "text",
    "id": "5X7yGMIi0fYf"
   },
   "source": [
    "### Combine rows into one row per gene+tissue, cols for M and F TPM."
   ]
  },
  {
   "cell_type": "markdown",
   "metadata": {
    "colab_type": "text",
    "id": "R3CrnrZy0usJ"
   },
   "source": [
    "### Log fold-change is log of ratio."
   ]
  },
  {
   "cell_type": "code",
   "execution_count": 85,
   "metadata": {
    "colab": {
     "autoexec": {
      "startup": false,
      "wait_interval": 0
     },
     "base_uri": "https://localhost:8080/",
     "height": 204
    },
    "colab_type": "code",
    "executionInfo": {
     "elapsed": 290,
     "status": "ok",
     "timestamp": 1529958606966,
     "user": {
      "displayName": "Jeremy Yang",
      "photoUrl": "//lh4.googleusercontent.com/-oulNnl1aBlA/AAAAAAAAAAI/AAAAAAAAAm4/uOczRUUkS4g/s50-c-k-no/photo.jpg",
      "userId": "102807397641040966212"
     },
     "user_tz": 360
    },
    "id": "vYRobAfenAvd",
    "outputId": "2de89f16-a504-41e0-c8f9-3d01bc132238"
   },
   "outputs": [
    {
     "data": {
      "text/html": [
       "<div>\n",
       "<style scoped>\n",
       "    .dataframe tbody tr th:only-of-type {\n",
       "        vertical-align: middle;\n",
       "    }\n",
       "\n",
       "    .dataframe tbody tr th {\n",
       "        vertical-align: top;\n",
       "    }\n",
       "\n",
       "    .dataframe thead th {\n",
       "        text-align: right;\n",
       "    }\n",
       "</style>\n",
       "<table border=\"1\" class=\"dataframe\">\n",
       "  <thead>\n",
       "    <tr style=\"text-align: right;\">\n",
       "      <th></th>\n",
       "      <th>ENSG</th>\n",
       "      <th>SMTSD</th>\n",
       "      <th>TPM_F</th>\n",
       "      <th>TPM_F_RANK</th>\n",
       "      <th>LEVEL_F</th>\n",
       "      <th>TPM_M</th>\n",
       "      <th>TPM_M_RANK</th>\n",
       "      <th>LEVEL_M</th>\n",
       "      <th>log2foldchange</th>\n",
       "    </tr>\n",
       "  </thead>\n",
       "  <tbody>\n",
       "    <tr>\n",
       "      <th>0</th>\n",
       "      <td>ENSG00000007968.6</td>\n",
       "      <td>Adipose - Subcutaneous</td>\n",
       "      <td>0.2779</td>\n",
       "      <td>0.580645</td>\n",
       "      <td>Medium</td>\n",
       "      <td>0.3466</td>\n",
       "      <td>0.612903</td>\n",
       "      <td>Medium</td>\n",
       "      <td>0.075546</td>\n",
       "    </tr>\n",
       "    <tr>\n",
       "      <th>1</th>\n",
       "      <td>ENSG00000007968.6</td>\n",
       "      <td>Adipose - Visceral (Omentum)</td>\n",
       "      <td>0.2347</td>\n",
       "      <td>0.516129</td>\n",
       "      <td>Medium</td>\n",
       "      <td>0.2769</td>\n",
       "      <td>0.548387</td>\n",
       "      <td>Medium</td>\n",
       "      <td>0.048485</td>\n",
       "    </tr>\n",
       "    <tr>\n",
       "      <th>2</th>\n",
       "      <td>ENSG00000007968.6</td>\n",
       "      <td>Adrenal Gland</td>\n",
       "      <td>0.2696</td>\n",
       "      <td>0.548387</td>\n",
       "      <td>Medium</td>\n",
       "      <td>0.2955</td>\n",
       "      <td>0.580645</td>\n",
       "      <td>Medium</td>\n",
       "      <td>0.029135</td>\n",
       "    </tr>\n",
       "    <tr>\n",
       "      <th>3</th>\n",
       "      <td>ENSG00000007968.6</td>\n",
       "      <td>Artery - Aorta</td>\n",
       "      <td>0.1870</td>\n",
       "      <td>0.419355</td>\n",
       "      <td>Medium</td>\n",
       "      <td>0.1614</td>\n",
       "      <td>0.419355</td>\n",
       "      <td>Medium</td>\n",
       "      <td>0.031455</td>\n",
       "    </tr>\n",
       "    <tr>\n",
       "      <th>4</th>\n",
       "      <td>ENSG00000007968.6</td>\n",
       "      <td>Artery - Coronary</td>\n",
       "      <td>0.2306</td>\n",
       "      <td>0.483871</td>\n",
       "      <td>Medium</td>\n",
       "      <td>0.2403</td>\n",
       "      <td>0.516129</td>\n",
       "      <td>Medium</td>\n",
       "      <td>0.011327</td>\n",
       "    </tr>\n",
       "  </tbody>\n",
       "</table>\n",
       "</div>"
      ],
      "text/plain": [
       "                ENSG                         SMTSD   TPM_F  TPM_F_RANK  \\\n",
       "0  ENSG00000007968.6        Adipose - Subcutaneous  0.2779    0.580645   \n",
       "1  ENSG00000007968.6  Adipose - Visceral (Omentum)  0.2347    0.516129   \n",
       "2  ENSG00000007968.6                 Adrenal Gland  0.2696    0.548387   \n",
       "3  ENSG00000007968.6                Artery - Aorta  0.1870    0.419355   \n",
       "4  ENSG00000007968.6             Artery - Coronary  0.2306    0.483871   \n",
       "\n",
       "  LEVEL_F   TPM_M  TPM_M_RANK LEVEL_M  log2foldchange  \n",
       "0  Medium  0.3466    0.612903  Medium        0.075546  \n",
       "1  Medium  0.2769    0.548387  Medium        0.048485  \n",
       "2  Medium  0.2955    0.580645  Medium        0.029135  \n",
       "3  Medium  0.1614    0.419355  Medium        0.031455  \n",
       "4  Medium  0.2403    0.516129  Medium        0.011327  "
      ]
     },
     "execution_count": 85,
     "metadata": {},
     "output_type": "execute_result"
    }
   ],
   "source": [
    "rnaseq_level['log2foldchange'] = ((rnaseq_level.TPM_F+1) / (rnaseq_level.TPM_M+1)).apply(lambda x: numpy.log2(max(x, 1/x)))\n",
    "rnaseq_level.head()"
   ]
  },
  {
   "cell_type": "code",
   "execution_count": 86,
   "metadata": {
    "colab": {
     "autoexec": {
      "startup": false,
      "wait_interval": 0
     },
     "base_uri": "https://localhost:8080/",
     "height": 365
    },
    "colab_type": "code",
    "executionInfo": {
     "elapsed": 808,
     "status": "ok",
     "timestamp": 1529958788726,
     "user": {
      "displayName": "Jeremy Yang",
      "photoUrl": "//lh4.googleusercontent.com/-oulNnl1aBlA/AAAAAAAAAAI/AAAAAAAAAm4/uOczRUUkS4g/s50-c-k-no/photo.jpg",
      "userId": "102807397641040966212"
     },
     "user_tz": 360
    },
    "id": "V3mSYzgio-w2",
    "outputId": "6261ac1b-f766-4fdb-f4da-f3a89e136368"
   },
   "outputs": [
    {
     "data": {
      "text/plain": [
       "<matplotlib.axes._subplots.AxesSubplot at 0x7fea6ba99b70>"
      ]
     },
     "execution_count": 86,
     "metadata": {},
     "output_type": "execute_result"
    },
    {
     "data": {
      "image/png": "[encoded data removed]",
      "text/plain": [
       "<Figure size 432x288 with 1 Axes>"
      ]
     },
     "metadata": {},
     "output_type": "display_data"
    }
   ],
   "source": [
    "rnaseq_level.log2foldchange.plot(kind='hist', logy=True)"
   ]
  },
  {
   "cell_type": "code",
   "execution_count": null,
   "metadata": {},
   "outputs": [],
   "source": []
  },
  {
   "cell_type": "code",
   "execution_count": null,
   "metadata": {},
   "outputs": [],
   "source": []
  }
 ],
 "metadata": {
  "colab": {
   "default_view": {},
   "name": "gtex_rnaseq_prep.ipynb",
   "provenance": [],
   "version": "0.3.2",
   "views": {}
  },
  "kernelspec": {
   "display_name": "Python 3",
   "language": "python",
   "name": "python3"
  },
  "language_info": {
   "codemirror_mode": {
    "name": "ipython",
    "version": 3
   },
   "file_extension": ".py",
   "mimetype": "text/x-python",
   "name": "python",
   "nbconvert_exporter": "python",
   "pygments_lexer": "ipython3",
   "version": "3.5.2"
  }
 },
 "nbformat": 4,
 "nbformat_minor": 1
}
